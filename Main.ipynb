{
 "cells": [
  {
   "cell_type": "markdown",
   "metadata": {},
   "source": [
    "## Step 1:\n",
    "- Get data"
   ]
  },
  {
   "cell_type": "code",
   "execution_count": 13,
   "metadata": {
    "collapsed": true
   },
   "outputs": [],
   "source": [
    "import numpy as np\n",
    "import pandas as pd\n",
    "import sklearn as sk"
   ]
  },
  {
   "cell_type": "code",
   "execution_count": 17,
   "metadata": {},
   "outputs": [
    {
     "name": "stdout",
     "output_type": "stream",
     "text": [
      "['NYPD_Complaint_Data_Current_YTD.csv', 'popu_zip.csv', 'Zip_Zhvi_AllHomes.csv', 'Zip_Zhvi_Summary_AllHomes.csv', 'Zip_Zri_AllHomes.csv', 'Zip_Zri_AllHomes_Summary.csv', 'Zip_Zri_AllHomesPlusMultifamily.csv', 'Zip_Zri_AllHomesPlusMultifamily_Summary.csv']\n"
     ]
    }
   ],
   "source": [
    "# list all the data files\n",
    "import os\n",
    "print os.listdir(\"data\")"
   ]
  },
  {
   "cell_type": "code",
   "execution_count": 19,
   "metadata": {},
   "outputs": [],
   "source": [
    "# get all the datasets\n",
    "crime_data = pd.read_csv(\"data/NYPD_Complaint_Data_Current_YTD.csv\")\n",
    "population_data = pd.read_csv(\"data/popu_zip.csv\")\n",
    "house_sell_price_data = pd.read_csv(\"data/Zip_Zhvi_AllHomes.csv\")\n",
    "house_rent_price_data = pd.read_csv(\"data/Zip_Zri_AllHomesPlusMultifamily.csv\")\n",
    "house_sell_price_summary_data = pd.read_csv(\"data/Zip_Zhvi_Summary_AllHomes.csv\")\n",
    "house_rent_price_summary_data = pd.read_csv(\"data/Zip_Zri_AllHomesPlusMultifamily_Summary.csv\")"
   ]
  },
  {
   "cell_type": "code",
   "execution_count": null,
   "metadata": {},
   "outputs": [],
   "source": [
    "# get a glimpse of some data\n",
    "house_sell_price_data"
   ]
  },
  {
   "cell_type": "code",
   "execution_count": null,
   "metadata": {
    "collapsed": true
   },
   "outputs": [],
   "source": []
  }
 ],
 "metadata": {
  "kernelspec": {
   "display_name": "Python 2",
   "language": "python",
   "name": "python2"
  },
  "language_info": {
   "codemirror_mode": {
    "name": "ipython",
    "version": 2
   },
   "file_extension": ".py",
   "mimetype": "text/x-python",
   "name": "python",
   "nbconvert_exporter": "python",
   "pygments_lexer": "ipython2",
   "version": "2.7.13"
  }
 },
 "nbformat": 4,
 "nbformat_minor": 2
}
