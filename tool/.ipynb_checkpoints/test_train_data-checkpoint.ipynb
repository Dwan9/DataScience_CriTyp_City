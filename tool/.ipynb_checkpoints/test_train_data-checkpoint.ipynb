{
 "cells": [
  {
   "cell_type": "code",
   "execution_count": null,
   "metadata": {
    "collapsed": true
   },
   "outputs": [],
   "source": [
    "import pandas as pd\n",
    "import numpy as np\n",
    "import matplotlib.pyplot as plt\n",
    "%matplotlib inline\n",
    "from sklearn.tree import DecisionTreeClassifier\n",
    "from sklearn import metrics\n",
    "from sklearn import preprocessing, linear_model, svm\n",
    "from sklearn.metrics import roc_curve, auc\n",
    "from sklearn.model_selection import KFold"
   ]
  },
  {
   "cell_type": "code",
   "execution_count": 51,
   "metadata": {
    "collapsed": true
   },
   "outputs": [],
   "source": [
    "crime_data = pd.read_csv('../new_data/zip_crime_data.csv')"
   ]
  },
  {
   "cell_type": "code",
   "execution_count": 52,
   "metadata": {
    "collapsed": true
   },
   "outputs": [],
   "source": [
    "def splitToTrainTest(dataframe, trainPercent):\n",
    "    recordNum = dataframe.shape[0]\n",
    "    shuffledIndex = np.random.permutation(np.arange(recordNum))\n",
    "    trainSetNum = int(recordNum * trainPercent)\n",
    "    trainDf, testDf = dataframe.iloc[shuffledIndex[:trainSetNum]], dataframe.iloc[shuffledIndex[trainSetNum:]]\n",
    "    return trainDf, testDf\n",
    "train_df, test_df = splitToTrainTest(crime_data, 0.8)"
   ]
  },
  {
   "cell_type": "code",
   "execution_count": 53,
   "metadata": {},
   "outputs": [
    {
     "data": {
      "text/plain": [
       "DecisionTreeClassifier(class_weight=None, criterion='entropy', max_depth=None,\n",
       "            max_features=None, max_leaf_nodes=None,\n",
       "            min_impurity_decrease=0.0, min_impurity_split=None,\n",
       "            min_samples_leaf=1, min_samples_split=2,\n",
       "            min_weight_fraction_leaf=0.0, presort=False, random_state=None,\n",
       "            splitter='best')"
      ]
     },
     "execution_count": 53,
     "metadata": {},
     "output_type": "execute_result"
    }
   ],
   "source": [
    "# ['LEVEL_FELONY','LEVEL_MISDEMEANOR', 'LEVEL_VIOLATION']\n",
    "clf = DecisionTreeClassifier(criterion='entropy')\n",
    "irrelevant_labels = ['LEVEL_FELONY','LEVEL_MISDEMEANOR', 'LEVEL_VIOLATION', 'zipcode', 'time', 'date']\n",
    "y_labels = ['LEVEL_FELONY','LEVEL_MISDEMEANOR', 'LEVEL_VIOLATION'][2]\n",
    "clf.fit(train_df.drop(irrelevant_labels, axis='columns'), train_df[y_labels])"
   ]
  },
  {
   "cell_type": "code",
   "execution_count": 54,
   "metadata": {},
   "outputs": [
    {
     "data": {
      "text/plain": [
       "Text(0,0.5,'Normalized Gini Importance')"
      ]
     },
     "execution_count": 54,
     "metadata": {},
     "output_type": "execute_result"
    },
    {
     "data": {
      "image/png": "[encoded data removed]",
      "text/plain": [
       "<matplotlib.figure.Figure at 0x1a0fcc7208>"
      ]
     },
     "metadata": {},
     "output_type": "display_data"
    }
   ],
   "source": [
    "new_df = pd.DataFrame({'importance':clf.feature_importances_, 'feature':train_df.drop(irrelevant_labels, 1).columns.values})\n",
    "new_df.sort_values('importance', axis = 0, inplace = True)\n",
    "fig, ax = plt.subplots()\n",
    "ax.bar(np.arange(len(new_df['importance'].values)), new_df['importance'].values, width = 0.2, color='b')\n",
    "ax.set_xticks(np.arange(len(new_df['importance'].values)))\n",
    "ax.set_xticklabels(new_df['feature'].values, rotation=-45)\n",
    "plt.title('Feature Importance using Decision Tree model')\n",
    "ax.set_ylabel('Normalized Gini Importance')"
   ]
  },
  {
   "cell_type": "code",
   "execution_count": 55,
   "metadata": {},
   "outputs": [
    {
     "data": {
      "text/html": [
       "<div>\n",
       "<style>\n",
       "    .dataframe thead tr:only-child th {\n",
       "        text-align: right;\n",
       "    }\n",
       "\n",
       "    .dataframe thead th {\n",
       "        text-align: left;\n",
       "    }\n",
       "\n",
       "    .dataframe tbody tr th {\n",
       "        vertical-align: top;\n",
       "    }\n",
       "</style>\n",
       "<table border=\"1\" class=\"dataframe\">\n",
       "  <thead>\n",
       "    <tr style=\"text-align: right;\">\n",
       "      <th></th>\n",
       "      <th>LEVEL_FELONY</th>\n",
       "      <th>LEVEL_MISDEMEANOR</th>\n",
       "      <th>LEVEL_VIOLATION</th>\n",
       "      <th>lat</th>\n",
       "      <th>lon</th>\n",
       "    </tr>\n",
       "  </thead>\n",
       "  <tbody>\n",
       "    <tr>\n",
       "      <th>LEVEL_FELONY</th>\n",
       "      <td>1.000000</td>\n",
       "      <td>-0.732476</td>\n",
       "      <td>-0.269818</td>\n",
       "      <td>-0.017264</td>\n",
       "      <td>0.028638</td>\n",
       "    </tr>\n",
       "    <tr>\n",
       "      <th>LEVEL_MISDEMEANOR</th>\n",
       "      <td>-0.732476</td>\n",
       "      <td>1.000000</td>\n",
       "      <td>-0.457907</td>\n",
       "      <td>0.029843</td>\n",
       "      <td>-0.028417</td>\n",
       "    </tr>\n",
       "    <tr>\n",
       "      <th>LEVEL_VIOLATION</th>\n",
       "      <td>-0.269818</td>\n",
       "      <td>-0.457907</td>\n",
       "      <td>1.000000</td>\n",
       "      <td>-0.019666</td>\n",
       "      <td>0.002797</td>\n",
       "    </tr>\n",
       "    <tr>\n",
       "      <th>lat</th>\n",
       "      <td>-0.017264</td>\n",
       "      <td>0.029843</td>\n",
       "      <td>-0.019666</td>\n",
       "      <td>1.000000</td>\n",
       "      <td>0.315328</td>\n",
       "    </tr>\n",
       "    <tr>\n",
       "      <th>lon</th>\n",
       "      <td>0.028638</td>\n",
       "      <td>-0.028417</td>\n",
       "      <td>0.002797</td>\n",
       "      <td>0.315328</td>\n",
       "      <td>1.000000</td>\n",
       "    </tr>\n",
       "  </tbody>\n",
       "</table>\n",
       "</div>"
      ],
      "text/plain": [
       "                   LEVEL_FELONY  LEVEL_MISDEMEANOR  LEVEL_VIOLATION       lat  \\\n",
       "LEVEL_FELONY           1.000000          -0.732476        -0.269818 -0.017264   \n",
       "LEVEL_MISDEMEANOR     -0.732476           1.000000        -0.457907  0.029843   \n",
       "LEVEL_VIOLATION       -0.269818          -0.457907         1.000000 -0.019666   \n",
       "lat                   -0.017264           0.029843        -0.019666  1.000000   \n",
       "lon                    0.028638          -0.028417         0.002797  0.315328   \n",
       "\n",
       "                        lon  \n",
       "LEVEL_FELONY       0.028638  \n",
       "LEVEL_MISDEMEANOR -0.028417  \n",
       "LEVEL_VIOLATION    0.002797  \n",
       "lat                0.315328  \n",
       "lon                1.000000  "
      ]
     },
     "execution_count": 55,
     "metadata": {},
     "output_type": "execute_result"
    }
   ],
   "source": [
    "train_df[['LEVEL_FELONY','LEVEL_MISDEMEANOR', 'LEVEL_VIOLATION', 'lat', 'lon']].corr()"
   ]
  },
  {
   "cell_type": "code",
   "execution_count": 56,
   "metadata": {},
   "outputs": [
    {
     "name": "stdout",
     "output_type": "stream",
     "text": [
      "Train accuracy = 0.874561244798263\n",
      "Test accuracy = 0.8346167207040296\n"
     ]
    }
   ],
   "source": [
    "train_predict = clf.predict(train_df.drop(irrelevant_labels, axis=1))\n",
    "test_predict = clf.predict(test_df.drop(irrelevant_labels, axis=1))\n",
    "train_accuracy = metrics.accuracy_score(train_predict, train_df[y_labels])\n",
    "test_accuracy = metrics.accuracy_score(test_predict, test_df[y_labels])\n",
    "\n",
    "print('Train accuracy = {}\\nTest accuracy = {}'.format(train_accuracy, test_accuracy))"
   ]
  },
  {
   "cell_type": "code",
   "execution_count": 57,
   "metadata": {
    "collapsed": true
   },
   "outputs": [],
   "source": [
    "from statsmodels.graphics.tsaplots import plot_pacf, plot_acf\n",
    "from statsmodels.tsa.stattools import acf, pacf\n",
    "from statsmodels.tsa.arima_model import ARMA\n",
    "from statsmodels.stats.stattools import durbin_watson\n",
    "from scipy.stats import norm, pareto, kstest\n",
    "from statsmodels.graphics.gofplots import qqplot"
   ]
  },
  {
   "cell_type": "code",
   "execution_count": 70,
   "metadata": {},
   "outputs": [
    {
     "data": {
      "image/png": "[encoded data removed]",
      "text/plain": [
       "<matplotlib.figure.Figure at 0x1a16986f60>"
      ]
     },
     "metadata": {},
     "output_type": "display_data"
    },
    {
     "data": {
      "text/plain": [
       "array([ 1.        ,  0.95353866,  0.90045873,  0.84726381,  0.8026084 ,\n",
       "        0.76987771,  0.74559496,  0.72366806,  0.70011739,  0.67174841,\n",
       "        0.63732548,  0.60043744,  0.56405908,  0.52682741,  0.49062231,\n",
       "        0.4564486 ,  0.42303217,  0.38914319,  0.35322523,  0.31683842,\n",
       "        0.28347093,  0.25305055,  0.22321957,  0.1927418 ,  0.16072935,\n",
       "        0.12920532,  0.10111681,  0.07569018,  0.05183894,  0.02973386,\n",
       "        0.00857153, -0.01362404, -0.03715996, -0.06120699, -0.08585428,\n",
       "       -0.111176  , -0.13517673, -0.1562431 , -0.17476681, -0.19211165,\n",
       "       -0.20967342])"
      ]
     },
     "execution_count": 70,
     "metadata": {},
     "output_type": "execute_result"
    }
   ],
   "source": [
    "timeSeries = pd.read_csv(\"../new_data/ny_house_sell.csv\", header=0).iloc[0][1:]\n",
    "plot_acf(timeSeries)\n",
    "plt.show()\n",
    "acf(timeSeries)"
   ]
  },
  {
   "cell_type": "code",
   "execution_count": 71,
   "metadata": {},
   "outputs": [
    {
     "data": {
      "image/png": "[encoded data removed]",
      "text/plain": [
       "<matplotlib.figure.Figure at 0x1a18625f28>"
      ]
     },
     "metadata": {},
     "output_type": "display_data"
    },
    {
     "data": {
      "text/plain": [
       "array([ 1.        ,  0.96489032, -0.12838412, -0.0276443 ,  0.09509658,\n",
       "        0.13063861,  0.07663472,  0.00767434, -0.01733093, -0.04984013,\n",
       "       -0.07726785, -0.04006544, -0.0252434 , -0.08259538, -0.05411765,\n",
       "       -0.0267014 , -0.04392597, -0.06030028, -0.07947537, -0.04249004,\n",
       "        0.01585872, -0.00340141, -0.05179861, -0.06052495, -0.06341171,\n",
       "       -0.01622468,  0.03233971, -0.00738271, -0.0362032 , -0.01359136,\n",
       "       -0.00735557, -0.04835328, -0.06656032, -0.05792679, -0.08077198,\n",
       "       -0.10960475, -0.07201057, -0.04375066, -0.06993196, -0.09371774,\n",
       "       -0.10277921])"
      ]
     },
     "execution_count": 71,
     "metadata": {},
     "output_type": "execute_result"
    }
   ],
   "source": [
    "plot_pacf(timeSeries)\n",
    "plt.show()\n",
    "pacf(timeSeries)"
   ]
  },
  {
   "cell_type": "code",
   "execution_count": 72,
   "metadata": {},
   "outputs": [
    {
     "data": {
      "text/plain": [
       "0.00020752741518038784"
      ]
     },
     "execution_count": 72,
     "metadata": {},
     "output_type": "execute_result"
    }
   ],
   "source": [
    "durbin_watson(timeSeries)"
   ]
  },
  {
   "cell_type": "code",
   "execution_count": null,
   "metadata": {
    "collapsed": true
   },
   "outputs": [],
   "source": [
    "def plotROC(classifiers, classifier_names, X_train, y_train, X_test, y_test):\n",
    "    plt.figure()\n",
    "    for classifier, classifier_name in zip(classifiers, classifier_names):\n",
    "        # Learn to predict\n",
    "        y_score = classifier.fit(X_train, y_train).decision_function(X_test)\n",
    "\n",
    "        # Compute ROC curve and ROC area\n",
    "        fpr, tpr, threshold = roc_curve(y_test, y_score)\n",
    "        roc_auc = auc(fpr, tpr)\n",
    "    \n",
    "        # Plot\n",
    "        lw = 2\n",
    "        rand_color = np.random.rand(3,)\n",
    "        plt.plot(fpr, tpr, c=rand_color,\n",
    "                 lw=lw, label='%s ROC curve (area = %0.2f)' % (classifier_name, roc_auc))\n",
    "\n",
    "    plt.plot([0, 1], [0, 1], color='navy', lw=lw, linestyle='--')\n",
    "    plt.xlim([0.0, 1.0])\n",
    "    plt.ylim([0.0, 1.0])\n",
    "    plt.xlabel('False Positive Rate')\n",
    "    plt.ylabel('True Positive Rate')\n",
    "    plt.title('Receiver operating characteristic')\n",
    "    plt.legend(loc=\"lower right\")\n",
    "    plt.show()"
   ]
  },
  {
   "cell_type": "code",
   "execution_count": null,
   "metadata": {},
   "outputs": [],
   "source": [
    "# build model\n",
    "\n",
    "# logistic regression model\n",
    "logistic_regression_model = linear_model.LogisticRegression(C = 1e30)\n",
    "\n",
    "# svm model\n",
    "svm_model = svm.SVC(kernel = 'linear')\n",
    "\n",
    "# plot roc curve for logistic regression model and svm model\n",
    "plotROC([logistic_regression_model, svm_model], ['Logistic Regression', 'SVM'],\\\n",
    "        df_train.drop(irrelevant_labels, axis=1), df_train[y_labels], df_test.drop(irrelevant_labels, axis=1), df_test[[y_labels]])"
   ]
  },
  {
   "cell_type": "code",
   "execution_count": null,
   "metadata": {
    "collapsed": true
   },
   "outputs": [],
   "source": []
  }
 ],
 "metadata": {
  "kernelspec": {
   "display_name": "Python 3",
   "language": "python",
   "name": "python3"
  },
  "language_info": {
   "codemirror_mode": {
    "name": "ipython",
    "version": 3
   },
   "file_extension": ".py",
   "mimetype": "text/x-python",
   "name": "python",
   "nbconvert_exporter": "python",
   "pygments_lexer": "ipython3",
   "version": "3.6.3"
  }
 },
 "nbformat": 4,
 "nbformat_minor": 2
}
