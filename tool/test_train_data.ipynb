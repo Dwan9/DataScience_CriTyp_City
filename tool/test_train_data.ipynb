{
 "cells": [
  {
   "cell_type": "code",
   "execution_count": 29,
   "metadata": {
    "collapsed": true
   },
   "outputs": [],
   "source": [
    "import pandas as pd\n",
    "import numpy as np\n",
    "import matplotlib.pyplot as plt\n",
    "%matplotlib inline\n",
    "from sklearn.tree import DecisionTreeClassifier\n",
    "from sklearn import metrics"
   ]
  },
  {
   "cell_type": "code",
   "execution_count": 30,
   "metadata": {
    "collapsed": true
   },
   "outputs": [],
   "source": [
    "crime_data = pd.read_csv('../new_data/zip_crime_data.csv')"
   ]
  },
  {
   "cell_type": "code",
   "execution_count": 31,
   "metadata": {
    "collapsed": true
   },
   "outputs": [],
   "source": [
    "def splitToTrainTest(dataframe, trainPercent):\n",
    "    recordNum = dataframe.shape[0]\n",
    "    shuffledIndex = np.random.permutation(np.arange(recordNum))\n",
    "    trainSetNum = int(recordNum * trainPercent)\n",
    "    trainDf, testDf = dataframe.iloc[shuffledIndex[:trainSetNum]], dataframe.iloc[shuffledIndex[trainSetNum:]]\n",
    "    return trainDf, testDf\n",
    "train_df, test_df = splitToTrainTest(crime_data, 0.8)"
   ]
  },
  {
   "cell_type": "code",
   "execution_count": 26,
   "metadata": {},
   "outputs": [
    {
     "data": {
      "text/plain": [
       "DecisionTreeClassifier(class_weight=None, criterion='entropy', max_depth=None,\n",
       "            max_features=None, max_leaf_nodes=None,\n",
       "            min_impurity_decrease=0.0, min_impurity_split=None,\n",
       "            min_samples_leaf=1, min_samples_split=2,\n",
       "            min_weight_fraction_leaf=0.0, presort=False, random_state=None,\n",
       "            splitter='best')"
      ]
     },
     "execution_count": 26,
     "metadata": {},
     "output_type": "execute_result"
    }
   ],
   "source": [
    "# ['LEVEL_FELONY','LEVEL_MISDEMEANOR', 'LEVEL_VIOLATION']\n",
    "clf = DecisionTreeClassifier(criterion='entropy')\n",
    "irrelevant_labels = ['LEVEL_FELONY','LEVEL_MISDEMEANOR', 'LEVEL_VIOLATION', 'zipcode', 'time', 'date']\n",
    "y_labels = ['LEVEL_FELONY']#,'LEVEL_MISDEMEANOR', 'LEVEL_VIOLATION']\n",
    "clf.fit(train_df.drop(irrelevant_labels, axis='columns'), train_df[y_labels])"
   ]
  },
  {
   "cell_type": "code",
   "execution_count": 27,
   "metadata": {},
   "outputs": [
    {
     "data": {
      "text/plain": [
       "Text(0,0.5,'Normalized Gini Importance')"
      ]
     },
     "execution_count": 27,
     "metadata": {},
     "output_type": "execute_result"
    },
    {
     "data": {
      "image/png": "[encoded data removed]",
      "text/plain": [
       "<matplotlib.figure.Figure at 0x1a0fbe60f0>"
      ]
     },
     "metadata": {},
     "output_type": "display_data"
    }
   ],
   "source": [
    "new_df = pd.DataFrame({'importance':clf.feature_importances_, 'feature':train_df.drop(irrelevant_labels, 1).columns.values})\n",
    "new_df.sort_values('importance', axis = 0, inplace = True)\n",
    "fig, ax = plt.subplots()\n",
    "ax.bar(np.arange(len(new_df['importance'].values)), new_df['importance'].values, width = 0.2, color='b')\n",
    "ax.set_xticks(np.arange(len(new_df['importance'].values)))\n",
    "ax.set_xticklabels(new_df['feature'].values, rotation=-45)\n",
    "plt.title('Feature Importance using Decision Tree model')\n",
    "ax.set_ylabel('Normalized Gini Importance')"
   ]
  },
  {
   "cell_type": "code",
   "execution_count": 23,
   "metadata": {},
   "outputs": [
    {
     "data": {
      "text/html": [
       "<div>\n",
       "<style>\n",
       "    .dataframe thead tr:only-child th {\n",
       "        text-align: right;\n",
       "    }\n",
       "\n",
       "    .dataframe thead th {\n",
       "        text-align: left;\n",
       "    }\n",
       "\n",
       "    .dataframe tbody tr th {\n",
       "        vertical-align: top;\n",
       "    }\n",
       "</style>\n",
       "<table border=\"1\" class=\"dataframe\">\n",
       "  <thead>\n",
       "    <tr style=\"text-align: right;\">\n",
       "      <th></th>\n",
       "      <th>LEVEL_FELONY</th>\n",
       "      <th>LEVEL_MISDEMEANOR</th>\n",
       "      <th>LEVEL_VIOLATION</th>\n",
       "      <th>lat</th>\n",
       "      <th>lon</th>\n",
       "    </tr>\n",
       "  </thead>\n",
       "  <tbody>\n",
       "    <tr>\n",
       "      <th>LEVEL_FELONY</th>\n",
       "      <td>1.000000</td>\n",
       "      <td>-0.730940</td>\n",
       "      <td>-0.270764</td>\n",
       "      <td>-0.015792</td>\n",
       "      <td>0.029261</td>\n",
       "    </tr>\n",
       "    <tr>\n",
       "      <th>LEVEL_MISDEMEANOR</th>\n",
       "      <td>-0.730940</td>\n",
       "      <td>1.000000</td>\n",
       "      <td>-0.459038</td>\n",
       "      <td>0.028364</td>\n",
       "      <td>-0.029420</td>\n",
       "    </tr>\n",
       "    <tr>\n",
       "      <th>LEVEL_VIOLATION</th>\n",
       "      <td>-0.270764</td>\n",
       "      <td>-0.459038</td>\n",
       "      <td>1.000000</td>\n",
       "      <td>-0.019451</td>\n",
       "      <td>0.003407</td>\n",
       "    </tr>\n",
       "    <tr>\n",
       "      <th>lat</th>\n",
       "      <td>-0.015792</td>\n",
       "      <td>0.028364</td>\n",
       "      <td>-0.019451</td>\n",
       "      <td>1.000000</td>\n",
       "      <td>0.315246</td>\n",
       "    </tr>\n",
       "    <tr>\n",
       "      <th>lon</th>\n",
       "      <td>0.029261</td>\n",
       "      <td>-0.029420</td>\n",
       "      <td>0.003407</td>\n",
       "      <td>0.315246</td>\n",
       "      <td>1.000000</td>\n",
       "    </tr>\n",
       "  </tbody>\n",
       "</table>\n",
       "</div>"
      ],
      "text/plain": [
       "                   LEVEL_FELONY  LEVEL_MISDEMEANOR  LEVEL_VIOLATION       lat  \\\n",
       "LEVEL_FELONY           1.000000          -0.730940        -0.270764 -0.015792   \n",
       "LEVEL_MISDEMEANOR     -0.730940           1.000000        -0.459038  0.028364   \n",
       "LEVEL_VIOLATION       -0.270764          -0.459038         1.000000 -0.019451   \n",
       "lat                   -0.015792           0.028364        -0.019451  1.000000   \n",
       "lon                    0.029261          -0.029420         0.003407  0.315246   \n",
       "\n",
       "                        lon  \n",
       "LEVEL_FELONY       0.029261  \n",
       "LEVEL_MISDEMEANOR -0.029420  \n",
       "LEVEL_VIOLATION    0.003407  \n",
       "lat                0.315246  \n",
       "lon                1.000000  "
      ]
     },
     "execution_count": 23,
     "metadata": {},
     "output_type": "execute_result"
    }
   ],
   "source": [
    "train_df[['LEVEL_FELONY','LEVEL_MISDEMEANOR', 'LEVEL_VIOLATION', 'lat', 'lon']].corr()"
   ]
  },
  {
   "cell_type": "code",
   "execution_count": 28,
   "metadata": {},
   "outputs": [
    {
     "name": "stdout",
     "output_type": "stream",
     "text": [
      "Train accuracy = 0.527714854351366\n",
      "Test accuracy = 0.3967693376563224\n"
     ]
    }
   ],
   "source": [
    "train_predict = clf.predict(train_df.drop(irrelevant_labels, axis=1))\n",
    "test_predict = clf.predict(test_df.drop(irrelevant_labels, axis=1))\n",
    "train_accuracy = metrics.accuracy_score(train_predict, train_df[y_labels])\n",
    "test_accuracy = metrics.accuracy_score(test_predict, test_df[y_labels])\n",
    "\n",
    "print('Train accuracy = {}\\nTest accuracy = {}'.format(train_accuracy, test_accuracy))"
   ]
  },
  {
   "cell_type": "code",
   "execution_count": null,
   "metadata": {
    "collapsed": true
   },
   "outputs": [],
   "source": []
  }
 ],
 "metadata": {
  "kernelspec": {
   "display_name": "Python 3",
   "language": "python",
   "name": "python3"
  },
  "language_info": {
   "codemirror_mode": {
    "name": "ipython",
    "version": 3
   },
   "file_extension": ".py",
   "mimetype": "text/x-python",
   "name": "python",
   "nbconvert_exporter": "python",
   "pygments_lexer": "ipython3",
   "version": "3.6.3"
  }
 },
 "nbformat": 4,
 "nbformat_minor": 2
}
