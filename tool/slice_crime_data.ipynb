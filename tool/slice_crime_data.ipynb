{
 "cells": [
  {
   "cell_type": "markdown",
   "metadata": {},
   "source": [
    "## Slice crime data"
   ]
  },
  {
   "cell_type": "code",
   "execution_count": 4,
   "metadata": {},
   "outputs": [],
   "source": [
    "import numpy as np\n",
    "import pandas as pd\n",
    "\n",
    "# raw crime data\n",
    "raw_crime_data = pd.read_csv(\"data/NYPD_Complaint_Data_Current_YTD.csv\")\n",
    "\n",
    "# filter crime data\n",
    "crime_data = raw_crime_data[['CMPLNT_FR_DT', 'CMPLNT_FR_TM','Latitude', 'Longitude', 'LAW_CAT_CD']]\\\n",
    "                        .dropna()\\\n",
    "                        .rename(index=str, columns={'CMPLNT_FR_DT':'date', 'CMPLNT_FR_TM':'time','Latitude': 'lat', 'Longitude':'lon', 'LAW_CAT_CD':'offense_level'})\n",
    "crime_data = pd.get_dummies(crime_data, columns = ['offense_level'], prefix = ['LEVEL'])"
   ]
  },
  {
   "cell_type": "code",
   "execution_count": 13,
   "metadata": {},
   "outputs": [
    {
     "name": "stdout",
     "output_type": "stream",
     "text": [
      "Index 0 store finished, from 0(inclusive) to 20000(exclusive)\n",
      "Index 1 store finished, from 20000(inclusive) to 40000(exclusive)\n",
      "Index 2 store finished, from 40000(inclusive) to 60000(exclusive)\n",
      "Index 3 store finished, from 60000(inclusive) to 80000(exclusive)\n",
      "Index 4 store finished, from 80000(inclusive) to 100000(exclusive)\n",
      "Index 5 store finished, from 100000(inclusive) to 120000(exclusive)\n",
      "Index 6 store finished, from 120000(inclusive) to 140000(exclusive)\n",
      "Index 7 store finished, from 140000(inclusive) to 160000(exclusive)\n",
      "Index 8 store finished, from 160000(inclusive) to 180000(exclusive)\n",
      "Index 9 store finished, from 180000(inclusive) to 200000(exclusive)\n",
      "Index 10 store finished, from 200000(inclusive) to 220000(exclusive)\n",
      "Index 11 store finished, from 220000(inclusive) to 240000(exclusive)\n",
      "Index 12 store finished, from 240000(inclusive) to 260000(exclusive)\n",
      "Index 13 store finished, from 260000(inclusive) to 280000(exclusive)\n",
      "Index 14 store finished, from 280000(inclusive) to 300000(exclusive)\n",
      "Index 15 store finished, from 300000(inclusive) to 320000(exclusive)\n",
      "Index 16 store finished, from 320000(inclusive) to 340000(exclusive)\n",
      "Index 17 store finished, from 340000(inclusive) to 345438(exclusive)\n",
      "Store finish\n"
     ]
    }
   ],
   "source": [
    "record_num = crime_data.shape[0]\n",
    "slice_num = 20000\n",
    "file_num = record_num // slice_num\n",
    "for index in range(0, file_num):\n",
    "    crime_data.iloc[index * slice_num : (index + 1) * slice_num]\\\n",
    "                .to_csv('new_data/crime_data/crime_data' + str(index) +'.csv', sep=',', index=False)\n",
    "    print(\"Index %d store finished, from %d(inclusive) to %d(exclusive)\" % (index, index * slice_num, (index + 1) * slice_num))\n",
    "\n",
    "if (record_num % slice_num != 0):\n",
    "    crime_data.iloc[file_num * slice_num : ]\\\n",
    "                .to_csv('new_data/crime_data/crime_data' + str(file_num) +'.csv', sep=',', index=False)\n",
    "    print(\"Index %d store finished, from %d(inclusive) to %d(exclusive)\" % (file_num, file_num * slice_num, record_num))\n",
    "    file_num += 1\n",
    "print('Store finish')"
   ]
  }
 ],
 "metadata": {
  "kernelspec": {
   "display_name": "Python 3",
   "language": "python",
   "name": "python3"
  },
  "language_info": {
   "codemirror_mode": {
    "name": "ipython",
    "version": 3
   },
   "file_extension": ".py",
   "mimetype": "text/x-python",
   "name": "python",
   "nbconvert_exporter": "python",
   "pygments_lexer": "ipython3",
   "version": "3.6.3"
  }
 },
 "nbformat": 4,
 "nbformat_minor": 2
}
