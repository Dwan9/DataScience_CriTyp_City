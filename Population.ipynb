{
 "cells": [
  {
   "cell_type": "code",
   "execution_count": 2,
   "metadata": {
    "collapsed": true
   },
   "outputs": [],
   "source": [
    "import pandas as pd\n",
    "import numpy as np"
   ]
  },
  {
   "cell_type": "code",
   "execution_count": 18,
   "metadata": {
    "collapsed": false
   },
   "outputs": [
    {
     "data": {
      "text/html": [
       "<div>\n",
       "<table border=\"1\" class=\"dataframe\">\n",
       "  <thead>\n",
       "    <tr style=\"text-align: right;\">\n",
       "      <th></th>\n",
       "      <th>population</th>\n",
       "      <th>minimum_age</th>\n",
       "      <th>maximum_age</th>\n",
       "      <th>gender</th>\n",
       "      <th>zipcode</th>\n",
       "      <th>geo_id</th>\n",
       "    </tr>\n",
       "  </thead>\n",
       "  <tbody>\n",
       "    <tr>\n",
       "      <th>0</th>\n",
       "      <td>50</td>\n",
       "      <td>30.0</td>\n",
       "      <td>34.0</td>\n",
       "      <td>female</td>\n",
       "      <td>61747</td>\n",
       "      <td>8600000US61747</td>\n",
       "    </tr>\n",
       "    <tr>\n",
       "      <th>1</th>\n",
       "      <td>5</td>\n",
       "      <td>85.0</td>\n",
       "      <td>NaN</td>\n",
       "      <td>male</td>\n",
       "      <td>64120</td>\n",
       "      <td>8600000US64120</td>\n",
       "    </tr>\n",
       "  </tbody>\n",
       "</table>\n",
       "</div>"
      ],
      "text/plain": [
       "   population  minimum_age  maximum_age  gender  zipcode          geo_id\n",
       "0          50         30.0         34.0  female    61747  8600000US61747\n",
       "1           5         85.0          NaN    male    64120  8600000US64120"
      ]
     },
     "execution_count": 18,
     "metadata": {},
     "output_type": "execute_result"
    }
   ],
   "source": [
    "populationDataDir = 'data\\population_by_zip_2010.csv'\n",
    "data = pd.read_csv(populationDataDir)\n",
    "data.head(2)"
   ]
  },
  {
   "cell_type": "code",
   "execution_count": 19,
   "metadata": {
    "collapsed": false
   },
   "outputs": [
    {
     "data": {
      "text/html": [
       "<div>\n",
       "<table border=\"1\" class=\"dataframe\">\n",
       "  <thead>\n",
       "    <tr style=\"text-align: right;\">\n",
       "      <th></th>\n",
       "      <th>population</th>\n",
       "      <th>zipcode</th>\n",
       "      <th>geo_id</th>\n",
       "    </tr>\n",
       "  </thead>\n",
       "  <tbody>\n",
       "    <tr>\n",
       "      <th>36</th>\n",
       "      <td>27669</td>\n",
       "      <td>91324</td>\n",
       "      <td>8600000US91324</td>\n",
       "    </tr>\n",
       "    <tr>\n",
       "      <th>116</th>\n",
       "      <td>4449</td>\n",
       "      <td>72632</td>\n",
       "      <td>8600000US72632</td>\n",
       "    </tr>\n",
       "  </tbody>\n",
       "</table>\n",
       "</div>"
      ],
      "text/plain": [
       "     population  zipcode          geo_id\n",
       "36        27669    91324  8600000US91324\n",
       "116        4449    72632  8600000US72632"
      ]
     },
     "execution_count": 19,
     "metadata": {},
     "output_type": "execute_result"
    }
   ],
   "source": [
    "popuData = data.loc[data['gender'].isnull()]\n",
    "popuData = popuData.drop(['minimum_age','maximum_age','gender'], axis=1)\n",
    "popuData.head(2)"
   ]
  },
  {
   "cell_type": "code",
   "execution_count": 20,
   "metadata": {
    "collapsed": false
   },
   "outputs": [
    {
     "data": {
      "text/html": [
       "<div>\n",
       "<table border=\"1\" class=\"dataframe\">\n",
       "  <thead>\n",
       "    <tr style=\"text-align: right;\">\n",
       "      <th></th>\n",
       "      <th>zip</th>\n",
       "      <th>type</th>\n",
       "      <th>decommissioned</th>\n",
       "      <th>primary_city</th>\n",
       "      <th>acceptable_cities</th>\n",
       "      <th>unacceptable_cities</th>\n",
       "      <th>state</th>\n",
       "      <th>county</th>\n",
       "      <th>timezone</th>\n",
       "      <th>area_codes</th>\n",
       "      <th>world_region</th>\n",
       "      <th>country</th>\n",
       "      <th>latitude</th>\n",
       "      <th>longitude</th>\n",
       "      <th>irs_estimated_population_2014</th>\n",
       "    </tr>\n",
       "  </thead>\n",
       "  <tbody>\n",
       "    <tr>\n",
       "      <th>0</th>\n",
       "      <td>501</td>\n",
       "      <td>UNIQUE</td>\n",
       "      <td>0</td>\n",
       "      <td>Holtsville</td>\n",
       "      <td>NaN</td>\n",
       "      <td>I R S Service Center</td>\n",
       "      <td>NY</td>\n",
       "      <td>Suffolk County</td>\n",
       "      <td>America/New_York</td>\n",
       "      <td>631</td>\n",
       "      <td>NaN</td>\n",
       "      <td>US</td>\n",
       "      <td>40.81</td>\n",
       "      <td>-73.04</td>\n",
       "      <td>562</td>\n",
       "    </tr>\n",
       "    <tr>\n",
       "      <th>1</th>\n",
       "      <td>544</td>\n",
       "      <td>UNIQUE</td>\n",
       "      <td>0</td>\n",
       "      <td>Holtsville</td>\n",
       "      <td>NaN</td>\n",
       "      <td>Irs Service Center</td>\n",
       "      <td>NY</td>\n",
       "      <td>Suffolk County</td>\n",
       "      <td>America/New_York</td>\n",
       "      <td>631</td>\n",
       "      <td>NaN</td>\n",
       "      <td>US</td>\n",
       "      <td>40.81</td>\n",
       "      <td>-73.04</td>\n",
       "      <td>0</td>\n",
       "    </tr>\n",
       "  </tbody>\n",
       "</table>\n",
       "</div>"
      ],
      "text/plain": [
       "   zip    type  decommissioned primary_city acceptable_cities  \\\n",
       "0  501  UNIQUE               0   Holtsville               NaN   \n",
       "1  544  UNIQUE               0   Holtsville               NaN   \n",
       "\n",
       "    unacceptable_cities state          county          timezone area_codes  \\\n",
       "0  I R S Service Center    NY  Suffolk County  America/New_York        631   \n",
       "1    Irs Service Center    NY  Suffolk County  America/New_York        631   \n",
       "\n",
       "  world_region country  latitude  longitude  irs_estimated_population_2014  \n",
       "0          NaN      US     40.81     -73.04                            562  \n",
       "1          NaN      US     40.81     -73.04                              0  "
      ]
     },
     "execution_count": 20,
     "metadata": {},
     "output_type": "execute_result"
    }
   ],
   "source": [
    "zipData = pd.read_csv('data\\zip_code_database.csv', encoding='latin1')\n",
    "zipData.head(2)"
   ]
  },
  {
   "cell_type": "code",
   "execution_count": 21,
   "metadata": {
    "collapsed": false
   },
   "outputs": [],
   "source": [
    "zipNYData = zipData.loc[zipData['state']=='NY'].zip.tolist()"
   ]
  },
  {
   "cell_type": "code",
   "execution_count": 28,
   "metadata": {
    "collapsed": false
   },
   "outputs": [],
   "source": [
    "popu = popuData.loc[popuData['zipcode'].isin(zipNYData)]\n",
    "outFileDir = 'data\\popu_zip.csv'\n",
    "popu.to_csv(outFileDir)"
   ]
  },
  {
   "cell_type": "code",
   "execution_count": null,
   "metadata": {
    "collapsed": true
   },
   "outputs": [],
   "source": []
  }
 ],
 "metadata": {
  "kernelspec": {
   "display_name": "Python 3",
   "language": "python",
   "name": "python3"
  },
  "language_info": {
   "codemirror_mode": {
    "name": "ipython",
    "version": 3
   },
   "file_extension": ".py",
   "mimetype": "text/x-python",
   "name": "python",
   "nbconvert_exporter": "python",
   "pygments_lexer": "ipython3",
   "version": "3.6.0"
  }
 },
 "nbformat": 4,
 "nbformat_minor": 2
}
