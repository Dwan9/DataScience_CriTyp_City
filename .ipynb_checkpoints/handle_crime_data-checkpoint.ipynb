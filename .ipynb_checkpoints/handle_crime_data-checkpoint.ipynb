{
 "cells": [
  {
   "cell_type": "markdown",
   "metadata": {},
   "source": [
    "## Crime data\n",
    "- map crime data with zipcode"
   ]
  },
  {
   "cell_type": "code",
   "execution_count": 1,
   "metadata": {
    "collapsed": true
   },
   "outputs": [],
   "source": [
    "import numpy as np\n",
    "import pandas as pd"
   ]
  },
  {
   "cell_type": "code",
   "execution_count": 2,
   "metadata": {
    "collapsed": true
   },
   "outputs": [],
   "source": [
    "# remote api to transform lat/lon to zipcode\n",
    "# use \"conda install -c esri arcgis\" to install\n",
    "from arcgis.gis import GIS\n",
    "gis = GIS()\n",
    "from arcgis.geocoding import geocode, reverse_geocode "
   ]
  },
  {
   "cell_type": "code",
   "execution_count": 3,
   "metadata": {
    "collapsed": true
   },
   "outputs": [],
   "source": [
    "# local way to transform lat/lon to zipcode\n",
    "def trans_geo2zip(lat, long, searchTreash=1):\n",
    "    tozipData = pd.read_csv('data/zip_code_database_clean.csv')\n",
    "    #subData = tozipData\n",
    "    subData = tozipData.loc[tozipData['longitude']>=long-searchTreash]\n",
    "    subData = tozipData.loc[tozipData['longitude']<=long+searchTreash]\n",
    "    subData = tozipData.loc[tozipData['latitude']>=lat-searchTreash]\n",
    "    subData = tozipData.loc[tozipData['latitude']<=lat+searchTreash]\n",
    "    dis=[]\n",
    "    for index, row in subData.iterrows():\n",
    "        distance = (row['longitude']-long)**2+(row['latitude']-lat)**2\n",
    "        dis.append([row['zip'],distance])\n",
    "    dis.sort(key=lambda x:x[1])\n",
    "    #\n",
    "    ret = dis[:5]\n",
    "    return ret\n",
    "\n",
    "def get_zipcode(lat, lon):\n",
    "    def local_way():\n",
    "        return int(trans_geo2zip(lat, lon, 0.1)[0][0])\n",
    "    \n",
    "    def remote_way():\n",
    "        result = reverse_geocode({'x': lon, 'y': lat})\n",
    "        return result['address']['Postal']\n",
    "    \n",
    "    return remote_way()\n",
    "\n",
    "def geo_to_zip(data):\n",
    "    zipcode_col = []\n",
    "    for index, row in data.iterrows():\n",
    "        zipcode = get_zipcode(row['lat'], row['lon'])\n",
    "        zipcode_col.append(zipcode)\n",
    "    return zipcode_col"
   ]
  },
  {
   "cell_type": "code",
   "execution_count": 10,
   "metadata": {},
   "outputs": [
    {
     "ename": "TypeError",
     "evalue": "unsupported operand type(s) for +: 'NoneType' and 'int'",
     "output_type": "error",
     "traceback": [
      "\u001b[0;31m---------------------------------------------------------------------------\u001b[0m",
      "\u001b[0;31mTypeError\u001b[0m                                 Traceback (most recent call last)",
      "\u001b[0;32m<ipython-input-10-9cb8874cd9e4>\u001b[0m in \u001b[0;36m<module>\u001b[0;34m()\u001b[0m\n\u001b[1;32m      4\u001b[0m \u001b[0mstart_file_num\u001b[0m \u001b[0;34m=\u001b[0m \u001b[0;32mNone\u001b[0m\u001b[0;34m\u001b[0m\u001b[0m\n\u001b[1;32m      5\u001b[0m \u001b[0mend_file_num\u001b[0m \u001b[0;34m=\u001b[0m \u001b[0;32mNone\u001b[0m\u001b[0;34m\u001b[0m\u001b[0m\n\u001b[0;32m----> 6\u001b[0;31m \u001b[0;32mfor\u001b[0m \u001b[0mindex\u001b[0m \u001b[0;32min\u001b[0m \u001b[0mrange\u001b[0m\u001b[0;34m(\u001b[0m\u001b[0mstart_file_num\u001b[0m\u001b[0;34m,\u001b[0m \u001b[0mend_file_num\u001b[0m \u001b[0;34m+\u001b[0m \u001b[0;36m1\u001b[0m\u001b[0;34m)\u001b[0m\u001b[0;34m:\u001b[0m\u001b[0;34m\u001b[0m\u001b[0m\n\u001b[0m\u001b[1;32m      7\u001b[0m     \u001b[0msliced_crime_data\u001b[0m \u001b[0;34m=\u001b[0m \u001b[0mpd\u001b[0m\u001b[0;34m.\u001b[0m\u001b[0mread_csv\u001b[0m\u001b[0;34m(\u001b[0m\u001b[0;34m'data/crime_data/crime_data%d.csv'\u001b[0m \u001b[0;34m%\u001b[0m \u001b[0;34m(\u001b[0m\u001b[0mindex\u001b[0m\u001b[0;34m)\u001b[0m\u001b[0;34m)\u001b[0m\u001b[0;34m\u001b[0m\u001b[0m\n\u001b[1;32m      8\u001b[0m     \u001b[0mzipcode_data\u001b[0m \u001b[0;34m=\u001b[0m \u001b[0mgeo_to_zip\u001b[0m\u001b[0;34m(\u001b[0m\u001b[0msliced_crime_data\u001b[0m\u001b[0;34m[\u001b[0m\u001b[0;34m[\u001b[0m\u001b[0;34m'lat'\u001b[0m\u001b[0;34m,\u001b[0m \u001b[0;34m'lon'\u001b[0m\u001b[0;34m]\u001b[0m\u001b[0;34m]\u001b[0m\u001b[0;34m)\u001b[0m\u001b[0;34m\u001b[0m\u001b[0m\n",
      "\u001b[0;31mTypeError\u001b[0m: unsupported operand type(s) for +: 'NoneType' and 'int'"
     ]
    }
   ],
   "source": [
    "# get zipcode data, append them to crime data and write to the original file\n",
    "\n",
    "# TODO - fill the start and end file number\n",
    "# data placed in data/crime_data/ directory\n",
    "# file number varies from 0 to 18(inclusive)\n",
    "start_file_num = None\n",
    "end_file_num = None\n",
    "for index in range(start_file_num, end_file_num + 1):\n",
    "    sliced_crime_data = pd.read_csv('new_data/crime_data/crime_data%d.csv' % (index))\n",
    "    zipcode_data = geo_to_zip(sliced_crime_data[['lat', 'lon']])\n",
    "    sliced_crime_data['zipcode'] = zipcode_data\n",
    "    sliced_crime_data.to_csv('new_data/crime_data/crime_data%d.csv' % (index), sep=',', index=False)"
   ]
  },
  {
   "cell_type": "code",
   "execution_count": null,
   "metadata": {
    "collapsed": true
   },
   "outputs": [],
   "source": []
  }
 ],
 "metadata": {
  "kernelspec": {
   "display_name": "Python 3",
   "language": "python",
   "name": "python3"
  },
  "language_info": {
   "codemirror_mode": {
    "name": "ipython",
    "version": 3
   },
   "file_extension": ".py",
   "mimetype": "text/x-python",
   "name": "python",
   "nbconvert_exporter": "python",
   "pygments_lexer": "ipython3",
   "version": "3.6.3"
  }
 },
 "nbformat": 4,
 "nbformat_minor": 2
}
