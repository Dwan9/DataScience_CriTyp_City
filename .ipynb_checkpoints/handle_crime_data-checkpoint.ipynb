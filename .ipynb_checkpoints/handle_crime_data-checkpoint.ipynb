{
 "cells": [
  {
   "cell_type": "markdown",
   "metadata": {},
   "source": [
    "## Crime data\n",
    "- map crime data with zipcode"
   ]
  },
  {
   "cell_type": "code",
   "execution_count": 1,
   "metadata": {
    "collapsed": true
   },
   "outputs": [],
   "source": [
    "import numpy as np\n",
    "import pandas as pd"
   ]
  },
  {
   "cell_type": "code",
   "execution_count": 2,
   "metadata": {
    "collapsed": true
   },
   "outputs": [],
   "source": [
    "# remote api to transform lat/lon to zipcode\n",
    "# use \"conda install -c esri arcgis\" to install\n",
    "# from arcgis.gis import GIS\n",
    "# gis = GIS()\n",
    "# from arcgis.geocoding import geocode, reverse_geocode "
   ]
  },
  {
   "cell_type": "code",
   "execution_count": 3,
   "metadata": {
    "collapsed": true
   },
   "outputs": [],
   "source": [
    "# local way to transform lat/lon to zipcode\n",
    "def trans_geo2zip(lat, long, searchTreash=1):\n",
    "    tozipData = pd.read_csv('data/zip_code_database_clean.csv')\n",
    "    #subData = tozipData\n",
    "    subData = tozipData.loc[tozipData['longitude']>=long-searchTreash]\n",
    "    subData = tozipData.loc[tozipData['longitude']<=long+searchTreash]\n",
    "    subData = tozipData.loc[tozipData['latitude']>=lat-searchTreash]\n",
    "    subData = tozipData.loc[tozipData['latitude']<=lat+searchTreash]\n",
    "    dis=[]\n",
    "    for index, row in subData.iterrows():\n",
    "        distance = (row['longitude']-long)**2+(row['latitude']-lat)**2\n",
    "        dis.append([row['zip'],distance])\n",
    "    dis.sort(key=lambda x:x[1])\n",
    "    #\n",
    "    ret = dis[:5]\n",
    "    return ret\n",
    "\n",
    "def get_zipcode(lat, lon):\n",
    "    def local_way():\n",
    "        return int(trans_geo2zip(lat, lon, 0.1)[0][0])\n",
    "    \n",
    "#     def remote_way():\n",
    "#         result = reverse_geocode({'x': lon, 'y': lat})\n",
    "#         return result['address']['Postal']\n",
    "    \n",
    "    return local_way()\n",
    "\n",
    "def geo_to_zip(data):\n",
    "    zipcode_col = []\n",
    "    for index, row in data.iterrows():\n",
    "        zipcode = get_zipcode(row['lat'], row['lon'])\n",
    "        zipcode_col.append(zipcode)\n",
    "    return zipcode_col"
   ]
  },
  {
   "cell_type": "code",
   "execution_count": 5,
   "metadata": {
    "collapsed": false
   },
   "outputs": [],
   "source": [
    "# get zipcode data, append them to crime data and write to the original file\n",
    "\n",
    "## sample test\n",
    "# def sample_test():\n",
    "#     sampled_sliced_crime_data = pd.read_csv('data/crime_data/crime_data%d.csv' % (index)).sample(2)\n",
    "#     zipcode_data = geo_to_zip(sampled_sliced_crime_data[['lat', 'lon']])\n",
    "#     sampled_sliced_crime_data['zipcode'] = zipcode_data\n",
    "# %timeit sample_test()\n",
    "\n",
    "# TODO - fill the start and end file number\n",
    "# data placed in data/crime_data/ directory\n",
    "# file number varies from 0 to 18(inclusive)\n",
    "# P.S the following output is the time to generate 2 zipcode  \n",
    "\n",
    "start_file_num = 1\n",
    "end_file_num = 9\n",
    "for index in range(start_file_num, end_file_num + 1):\n",
    "    sliced_crime_data = pd.read_csv('data/crime_data/crime_data%d.csv' % (index))\n",
    "    zipcode_data = geo_to_zip(sliced_crime_data[['lat', 'lon']])\n",
    "    sliced_crime_data['zipcode'] = zipcode_data\n",
    "    sliced_crime_data.to_csv('data/crime_data/zip_crime_data%d.csv' % (index), sep=',', index=False)"
   ]
  },
  {
   "cell_type": "code",
   "execution_count": null,
   "metadata": {
    "collapsed": true
   },
   "outputs": [],
   "source": []
  }
 ],
 "metadata": {
  "kernelspec": {
   "display_name": "Python 3",
   "language": "python",
   "name": "python3"
  },
  "language_info": {
   "codemirror_mode": {
    "name": "ipython",
    "version": 3
   },
   "file_extension": ".py",
   "mimetype": "text/x-python",
   "name": "python",
   "nbconvert_exporter": "python",
   "pygments_lexer": "ipython3",
   "version": "3.6.0"
  }
 },
 "nbformat": 4,
 "nbformat_minor": 2
}
