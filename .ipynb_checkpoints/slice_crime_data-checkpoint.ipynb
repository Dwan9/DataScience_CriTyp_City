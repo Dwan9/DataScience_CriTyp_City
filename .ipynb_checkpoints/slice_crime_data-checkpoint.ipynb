{
 "cells": [
  {
   "cell_type": "markdown",
   "metadata": {},
   "source": [
    "## Slice crime data"
   ]
  },
  {
   "cell_type": "code",
   "execution_count": 4,
   "metadata": {},
   "outputs": [],
   "source": [
    "import numpy as np\n",
    "import pandas as pd\n",
    "\n",
    "# raw crime data\n",
    "raw_crime_data = pd.read_csv(\"data/NYPD_Complaint_Data_Current_YTD.csv\")\n",
    "\n",
    "# filter crime data\n",
    "crime_data = raw_crime_data[['CMPLNT_FR_DT', 'CMPLNT_FR_TM','Latitude', 'Longitude', 'LAW_CAT_CD']]\\\n",
    "                        .dropna()\\\n",
    "                        .rename(index=str, columns={'CMPLNT_FR_DT':'date', 'CMPLNT_FR_TM':'time','Latitude': 'lat', 'Longitude':'lon', 'LAW_CAT_CD':'offense_level'})\n",
    "crime_data = pd.get_dummies(crime_data, columns = ['offense_level'], prefix = ['LEVEL'])"
   ]
  },
  {
   "cell_type": "code",
   "execution_count": 7,
   "metadata": {},
   "outputs": [
    {
     "name": "stdout",
     "output_type": "stream",
     "text": [
      "17\n"
     ]
    }
   ],
   "source": [
    "record_num = crime_data.shape[0]\n",
    "slice_num = 20000\n",
    "file_num = record_num // slice_num\n",
    "print(file_num)\n",
    "for index in range(0, file_num)\n",
    "    crime_data.iloc[index * slice_num:(index + 1) * slice_num]\\\n",
    "                .to_csv('new_data/crime_data/crime_data' + index +'.csv', sep=',', index=False)\n",
    "if (record_num % slice_num != 0):\n",
    "    crime_data.iloc[file_num * slice_num : ]\\\n",
    "                .to_csv('new_data/crime_data/crime_data' + str(file_num) +'.csv', sep=',', index=False)"
   ]
  },
  {
   "cell_type": "code",
   "execution_count": null,
   "metadata": {
    "collapsed": true
   },
   "outputs": [],
   "source": []
  }
 ],
 "metadata": {
  "kernelspec": {
   "display_name": "Python 3",
   "language": "python",
   "name": "python3"
  },
  "language_info": {
   "codemirror_mode": {
    "name": "ipython",
    "version": 3
   },
   "file_extension": ".py",
   "mimetype": "text/x-python",
   "name": "python",
   "nbconvert_exporter": "python",
   "pygments_lexer": "ipython3",
   "version": "3.6.3"
  }
 },
 "nbformat": 4,
 "nbformat_minor": 2
}
