{
 "cells": [
  {
   "cell_type": "code",
   "execution_count": 1,
   "metadata": {
    "collapsed": true
   },
   "outputs": [],
   "source": [
    "import pandas as pd\n",
    "import numpy as np"
   ]
  },
  {
   "cell_type": "markdown",
   "metadata": {},
   "source": [
    "Poplation - zip"
   ]
  },
  {
   "cell_type": "code",
   "execution_count": 3,
   "metadata": {
    "collapsed": false
   },
   "outputs": [],
   "source": [
    "populationDataDir = 'rowData\\population_by_zip_2010.csv'\n",
    "data = pd.read_csv(populationDataDir)\n",
    "#data.head(2)"
   ]
  },
  {
   "cell_type": "code",
   "execution_count": 4,
   "metadata": {
    "collapsed": false
   },
   "outputs": [],
   "source": [
    "popuData = data.loc[data['gender'].isnull()]\n",
    "popuData = popuData.drop(['minimum_age','maximum_age','gender'], axis=1)\n",
    "#popuData.head(2)"
   ]
  },
  {
   "cell_type": "code",
   "execution_count": 6,
   "metadata": {
    "collapsed": false
   },
   "outputs": [],
   "source": [
    "zipData = pd.read_csv('rowData\\zip_code_database.csv', encoding='latin1')\n",
    "#zipData.head(2)"
   ]
  },
  {
   "cell_type": "code",
   "execution_count": 7,
   "metadata": {
    "collapsed": false
   },
   "outputs": [],
   "source": [
    "zipNYData = zipData.loc[zipData['state']=='NY'].zip.tolist()"
   ]
  },
  {
   "cell_type": "code",
   "execution_count": 8,
   "metadata": {
    "collapsed": false
   },
   "outputs": [],
   "source": [
    "popu = popuData.loc[popuData['zipcode'].isin(zipNYData)]\n",
    "outFileDir = 'data\\popu_zip.csv'\n",
    "popu.to_csv(outFileDir)"
   ]
  },
  {
   "cell_type": "markdown",
   "metadata": {},
   "source": [
    "Store - zip\n",
    "three features: total, #individual, #business"
   ]
  },
  {
   "cell_type": "code",
   "execution_count": 71,
   "metadata": {
    "collapsed": false
   },
   "outputs": [],
   "source": [
    "storeRowData = pd.read_csv('rowData\\Legally_Operating_Businesses.csv')"
   ]
  },
  {
   "cell_type": "code",
   "execution_count": 75,
   "metadata": {
    "collapsed": false
   },
   "outputs": [
    {
     "data": {
      "text/html": [
       "<div>\n",
       "<table border=\"1\" class=\"dataframe\">\n",
       "  <thead>\n",
       "    <tr style=\"text-align: right;\">\n",
       "      <th></th>\n",
       "      <th>DCA License Number</th>\n",
       "      <th>License Type</th>\n",
       "      <th>License Expiration Date</th>\n",
       "      <th>License Category</th>\n",
       "      <th>Business Name</th>\n",
       "      <th>Business Name 2</th>\n",
       "      <th>Address Building</th>\n",
       "      <th>Address Street Name</th>\n",
       "      <th>Secondary Address Street Name</th>\n",
       "      <th>Address City</th>\n",
       "      <th>Address State</th>\n",
       "      <th>Address ZIP</th>\n",
       "      <th>Contact Phone Number</th>\n",
       "      <th>Address Borough</th>\n",
       "      <th>Detail</th>\n",
       "      <th>Longitude</th>\n",
       "      <th>Latitude</th>\n",
       "    </tr>\n",
       "  </thead>\n",
       "  <tbody>\n",
       "    <tr>\n",
       "      <th>0</th>\n",
       "      <td>2015392-DCA</td>\n",
       "      <td>Individual</td>\n",
       "      <td>02/28/2019</td>\n",
       "      <td>Home Improvement Salesperson</td>\n",
       "      <td>GARAY, HECTOR</td>\n",
       "      <td>0</td>\n",
       "      <td>0</td>\n",
       "      <td>0</td>\n",
       "      <td>0</td>\n",
       "      <td>0</td>\n",
       "      <td>0</td>\n",
       "      <td>0</td>\n",
       "      <td>3474320488</td>\n",
       "      <td>0.0</td>\n",
       "      <td>0</td>\n",
       "      <td>0.000000</td>\n",
       "      <td>0.000000</td>\n",
       "    </tr>\n",
       "    <tr>\n",
       "      <th>1</th>\n",
       "      <td>2058710-DCA</td>\n",
       "      <td>Business</td>\n",
       "      <td>02/28/2019</td>\n",
       "      <td>Home Improvement Contractor</td>\n",
       "      <td>STALOU CORP</td>\n",
       "      <td>FLOORWORKS</td>\n",
       "      <td>247</td>\n",
       "      <td>W 38TH ST</td>\n",
       "      <td>0</td>\n",
       "      <td>NEW YORK</td>\n",
       "      <td>NY</td>\n",
       "      <td>10018</td>\n",
       "      <td>2122897000</td>\n",
       "      <td>0.0</td>\n",
       "      <td>0</td>\n",
       "      <td>-73.990143</td>\n",
       "      <td>40.754092</td>\n",
       "    </tr>\n",
       "    <tr>\n",
       "      <th>2</th>\n",
       "      <td>2054939-DCA</td>\n",
       "      <td>Business</td>\n",
       "      <td>02/28/2019</td>\n",
       "      <td>Home Improvement Contractor</td>\n",
       "      <td>GET IT DONE SERVICES INC.</td>\n",
       "      <td>0</td>\n",
       "      <td>1475</td>\n",
       "      <td>TAYLOR AVE</td>\n",
       "      <td>0</td>\n",
       "      <td>BRONX</td>\n",
       "      <td>NY</td>\n",
       "      <td>10460</td>\n",
       "      <td>718-612-1414</td>\n",
       "      <td>0.0</td>\n",
       "      <td>0</td>\n",
       "      <td>-73.866265</td>\n",
       "      <td>40.836818</td>\n",
       "    </tr>\n",
       "  </tbody>\n",
       "</table>\n",
       "</div>"
      ],
      "text/plain": [
       "  DCA License Number License Type License Expiration Date  \\\n",
       "0        2015392-DCA   Individual              02/28/2019   \n",
       "1        2058710-DCA     Business              02/28/2019   \n",
       "2        2054939-DCA     Business              02/28/2019   \n",
       "\n",
       "               License Category              Business Name Business Name 2  \\\n",
       "0  Home Improvement Salesperson              GARAY, HECTOR               0   \n",
       "1   Home Improvement Contractor                STALOU CORP      FLOORWORKS   \n",
       "2   Home Improvement Contractor  GET IT DONE SERVICES INC.               0   \n",
       "\n",
       "  Address Building Address Street Name Secondary Address Street Name  \\\n",
       "0                0                   0                             0   \n",
       "1              247           W 38TH ST                             0   \n",
       "2             1475          TAYLOR AVE                             0   \n",
       "\n",
       "  Address City Address State Address ZIP Contact Phone Number  \\\n",
       "0            0             0           0           3474320488   \n",
       "1     NEW YORK            NY       10018           2122897000   \n",
       "2        BRONX            NY       10460         718-612-1414   \n",
       "\n",
       "   Address Borough Detail  Longitude   Latitude  \n",
       "0              0.0      0   0.000000   0.000000  \n",
       "1              0.0      0 -73.990143  40.754092  \n",
       "2              0.0      0 -73.866265  40.836818  "
      ]
     },
     "execution_count": 75,
     "metadata": {},
     "output_type": "execute_result"
    }
   ],
   "source": [
    "#NaN\n",
    "storeRowData = storeRowData.fillna(0)\n",
    "storeRowData = storeRowData[storeRowData['Address ZIP'].astype('str').apply(lambda x : x.isnumeric())]\n",
    "#NYC city\n",
    "cityList = ['NEW YORK','BROOKLYN','QUEENS VILLAGE','JAMAICA','FLUSHING','BRONX','COLLEGE POINT']\n",
    "\n",
    "#storesData = storeRowData[['Address ZIP','Address City','DCA License Number','License Type','License Expiration Date']]\\\n",
    "#            .loc[storeRowData['Address City'] = 'New York']\n",
    "\n",
    "storeRowData.head(3)"
   ]
  },
  {
   "cell_type": "code",
   "execution_count": 51,
   "metadata": {
    "collapsed": false
   },
   "outputs": [
    {
     "data": {
      "text/plain": [
       "Address ZIP                0\n",
       "Address City               0\n",
       "DCA License Number         0\n",
       "License Type               0\n",
       "License Expiration Date    0\n",
       "dtype: int64"
      ]
     },
     "execution_count": 51,
     "metadata": {},
     "output_type": "execute_result"
    }
   ],
   "source": [
    "storesData.isnull().sum()\n",
    "#storesData.groupby('Address ZIP').count()"
   ]
  },
  {
   "cell_type": "code",
   "execution_count": null,
   "metadata": {
    "collapsed": true
   },
   "outputs": [],
   "source": []
  }
 ],
 "metadata": {
  "kernelspec": {
   "display_name": "Python 3",
   "language": "python",
   "name": "python3"
  },
  "language_info": {
   "codemirror_mode": {
    "name": "ipython",
    "version": 3
   },
   "file_extension": ".py",
   "mimetype": "text/x-python",
   "name": "python",
   "nbconvert_exporter": "python",
   "pygments_lexer": "ipython3",
   "version": "3.6.0"
  }
 },
 "nbformat": 4,
 "nbformat_minor": 2
}
