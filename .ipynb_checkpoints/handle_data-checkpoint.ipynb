{
 "cells": [
  {
   "cell_type": "markdown",
   "metadata": {},
   "source": [
    "## Step 1:\n",
    "- Obtain and filter data"
   ]
  },
  {
   "cell_type": "code",
   "execution_count": 1,
   "metadata": {
    "collapsed": true
   },
   "outputs": [],
   "source": [
    "import numpy as np\n",
    "import pandas as pd"
   ]
  },
  {
   "cell_type": "code",
   "execution_count": 2,
   "metadata": {},
   "outputs": [
    {
     "name": "stdout",
     "output_type": "stream",
     "text": [
      "['NYPD_Complaint_Data_Current_YTD.csv', 'popu_zip.csv', 'zip_code_database_clean.csv', 'Zip_Zhvi_AllHomes.csv', 'Zip_Zhvi_Summary_AllHomes.csv', 'Zip_Zri_AllHomes.csv', 'Zip_Zri_AllHomes_Summary.csv', 'Zip_Zri_AllHomesPlusMultifamily.csv', 'Zip_Zri_AllHomesPlusMultifamily_Summary.csv']\n"
     ]
    }
   ],
   "source": [
    "# list all the raw data files\n",
    "import os\n",
    "print(os.listdir(\"data\"))"
   ]
  },
  {
   "cell_type": "code",
   "execution_count": 3,
   "metadata": {
    "collapsed": true
   },
   "outputs": [],
   "source": [
    "# remote api to transform lat/lon to zipcode\n",
    "from arcgis.gis import GIS\n",
    "gis = GIS()\n",
    "from arcgis.geocoding import geocode, reverse_geocode "
   ]
  },
  {
   "cell_type": "code",
   "execution_count": 6,
   "metadata": {},
   "outputs": [
    {
     "name": "stdout",
     "output_type": "stream",
     "text": [
      "Done\n"
     ]
    }
   ],
   "source": [
    "# local way to transform lat/lon to zipcode\n",
    "def haversine_distance(from_lat, from_lon, to_lat, to_lon):\n",
    "    EARTH_RADIUS_KM = 6378.137\n",
    "    import math\n",
    "    \n",
    "    # convert from degree to radians\n",
    "    from_lat, from_lon, to_lat, to_lon = map(math.radians, [from_lat, from_lon, to_lat, to_lon])\n",
    "    \n",
    "    delta_lat, delta_lon = to_lat - from_lat, to_lon - from_lon\n",
    "    delta_lat_sin, delta_lon_sin = math.sin(delta_lat / 2), math.sin(delta_lon / 2)\n",
    "    \n",
    "    square_half_chord_length = (delta_lat_sin * delta_lat_sin)\\\n",
    "            + (delta_lon_sin * delta_lon_sin * math.cos(from_lat) * math.cos(to_lat))\n",
    "    angular_distance = 2 * math.atan2(math.sqrt(square_half_chord_length), \\\n",
    "                                        math.sqrt(1 - square_half_chord_length))\n",
    "    return (EARTH_RADIUS_KM * angular_distance)\n",
    "           \n",
    "def trans_geo2zip(lat, long, searchTreash=1):\n",
    "    tozipData = pd.read_csv('data/zip_code_database_clean.csv')\n",
    "    #subData = tozipData\n",
    "    subData = tozipData.loc[tozipData['longitude']>=long-searchTreash]\n",
    "    subData = tozipData.loc[tozipData['longitude']<=long+searchTreash]\n",
    "    subData = tozipData.loc[tozipData['latitude']>=lat-searchTreash]\n",
    "    subData = tozipData.loc[tozipData['latitude']<=lat+searchTreash]\n",
    "    dis=[]\n",
    "    for index, row in subData.iterrows():\n",
    "        distance = (row['longitude']-long)**2+(row['latitude']-lat)**2\n",
    "        dis.append([row['zip'],distance])\n",
    "    dis.sort(key=lambda x:x[1])\n",
    "    #\n",
    "    ret = dis[:5]\n",
    "    return ret\n",
    "\n",
    "def get_zipcode(lat, lon):\n",
    "    def local_way():\n",
    "        return int(trans_geo2zip(lat, lon, 0.1)[0][0])\n",
    "    \n",
    "    def remote_way():\n",
    "        result = reverse_geocode({'x': lon, 'y': lat})\n",
    "        return result['address']['Postal']\n",
    "    \n",
    "    return remote_way()\n",
    "\n",
    "def geo_to_zip(data):\n",
    "    zipcode_col = []\n",
    "    for index, row in data.iterrows():\n",
    "        zipcode = get_zipcode(row['lat'], row['lon'])\n",
    "        zipcode_col.append(zipcode)\n",
    "    return zipcode_col"
   ]
  },
  {
   "cell_type": "code",
   "execution_count": null,
   "metadata": {
    "collapsed": true
   },
   "outputs": [],
   "source": [
    "# get all the raw datasets\n",
    "raw_crime_data = pd.read_csv(\"data/NYPD_Complaint_Data_Current_YTD.csv\")\n",
    "raw_house_sell_price_data = pd.read_csv(\"data/Zip_Zhvi_AllHomes.csv\")\n",
    "raw_house_rent_price_data = pd.read_csv(\"data/Zip_Zri_AllHomesPlusMultifamily.csv\")\n",
    "zip_geo_data = pd.read_csv(\"data/zip_code_database_clean.csv\", index_col=0)"
   ]
  },
  {
   "cell_type": "code",
   "execution_count": null,
   "metadata": {
    "collapsed": true
   },
   "outputs": [],
   "source": [
    "# filter house data\n",
    "ny_house_sell = raw_house_sell_price_data[raw_house_sell_price_data['City'] == 'New York']\\\n",
    "                    .dropna(axis='columns', how='any')\\\n",
    "                    .drop(['RegionID', 'City', 'State', 'Metro', 'SizeRank', 'CountyName'], axis='columns')\\\n",
    "                    .rename(index=str, columns={'RegionName': 'zipcode'})\n",
    "ny_house_rent = raw_house_rent_price_data[raw_house_rent_price_data['City'] == 'New York']\\\n",
    "                    .dropna(axis='columns', how='any')\\\n",
    "                    .drop(['RegionID', 'City', 'State', 'Metro', 'SizeRank', 'CountyName'], axis='columns')\\\n",
    "                    .rename(index=str, columns={'RegionName': 'zipcode'})"
   ]
  },
  {
   "cell_type": "code",
   "execution_count": null,
   "metadata": {
    "collapsed": true
   },
   "outputs": [],
   "source": [
    "# filter crime data\n",
    "crime_data = raw_crime_data[['CMPLNT_FR_DT', 'CMPLNT_FR_TM','Latitude', 'Longitude', 'LAW_CAT_CD']]\\\n",
    "                        .dropna()\\\n",
    "                        .rename(index=str, columns={'CMPLNT_FR_DT':'date', 'CMPLNT_FR_TM':'time','Latitude': 'lat', 'Longitude':'lon', 'LAW_CAT_CD':'offense_level'})\n",
    "crime_data = pd.get_dummies(crime_data, columns = ['offense_level'], prefix = ['LEVEL'])\n",
    "\n",
    "# sample from crime data\n",
    "sample_crime_data = crime_data.sample(2500)\n",
    "zipcode_data = geo_to_zip(sample_crime_data[['lat', 'lon']])\n",
    "sample_crime_data['zipcode'] = zipcode_data"
   ]
  },
  {
   "cell_type": "code",
   "execution_count": 13,
   "metadata": {
    "collapsed": true
   },
   "outputs": [],
   "source": [
    "# save new dataset\n",
    "ny_house_sell.to_csv('new_data/ny_house_sell.csv', sep=',', index=False)\n",
    "ny_house_rent.to_csv('new_data/ny_house_rent.csv', sep=',', index=False)\n",
    "sample_crime_data.to_csv('new_data/sample_crime_data.csv', sep=',', index=False)"
   ]
  },
  {
   "cell_type": "code",
   "execution_count": null,
   "metadata": {
    "collapsed": true
   },
   "outputs": [],
   "source": []
  }
 ],
 "metadata": {
  "kernelspec": {
   "display_name": "Python 3",
   "language": "python",
   "name": "python3"
  },
  "language_info": {
   "codemirror_mode": {
    "name": "ipython",
    "version": 3
   },
   "file_extension": ".py",
   "mimetype": "text/x-python",
   "name": "python",
   "nbconvert_exporter": "python",
   "pygments_lexer": "ipython3",
   "version": "3.6.3"
  }
 },
 "nbformat": 4,
 "nbformat_minor": 2
}
