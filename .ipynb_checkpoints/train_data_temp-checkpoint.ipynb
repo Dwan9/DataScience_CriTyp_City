{
 "cells": [
  {
   "cell_type": "code",
   "execution_count": 1,
   "metadata": {
    "collapsed": true
   },
   "outputs": [],
   "source": [
    "import numpy as np\n",
    "import pandas as pd\n",
    "from sklearn.preprocessing import MinMaxScaler\n",
    "from sklearn.linear_model import LogisticRegression\n",
    "from sklearn import svm\n",
    "from sklearn.metrics import roc_curve, auc\n",
    "import sklearn.preprocessing\n",
    "from scipy import interp\n",
    "import math"
   ]
  },
  {
   "cell_type": "code",
   "execution_count": 2,
   "metadata": {
    "collapsed": true
   },
   "outputs": [],
   "source": [
    "def create_Label(_data):\n",
    "    data = _data\n",
    "    data['Y'] = data['LEVEL_FELONY']+data['LEVEL_MISDEMEANOR']*2+data['LEVEL_VIOLATION']\n",
    "    #data = data.drop(['LEVEL_FELONY', 'LEVEL_MISDEMEANOR', 'LEVEL_VIOLATION'],axis=1)\n",
    "    return data;"
   ]
  },
  {
   "cell_type": "code",
   "execution_count": 5,
   "metadata": {
    "collapsed": false
   },
   "outputs": [
    {
     "data": {
      "text/html": [
       "<div>\n",
       "<table border=\"1\" class=\"dataframe\">\n",
       "  <thead>\n",
       "    <tr style=\"text-align: right;\">\n",
       "      <th></th>\n",
       "      <th>LEVEL_FELONY</th>\n",
       "      <th>LEVEL_MISDEMEANOR</th>\n",
       "      <th>LEVEL_VIOLATION</th>\n",
       "      <th>zipcode</th>\n",
       "      <th>res_max_type</th>\n",
       "      <th>res_max_type_count</th>\n",
       "      <th>res_total_count</th>\n",
       "      <th>avg_house_sell_price</th>\n",
       "      <th>avg_house_rent_price</th>\n",
       "      <th>lib_count1</th>\n",
       "      <th>...</th>\n",
       "      <th>store_individual_type_count</th>\n",
       "      <th>univ_count1</th>\n",
       "      <th>univ_count5</th>\n",
       "      <th>univ_count15</th>\n",
       "      <th>population</th>\n",
       "      <th>hospital_count5</th>\n",
       "      <th>hospital_count10</th>\n",
       "      <th>hospital_count15</th>\n",
       "      <th>park_area</th>\n",
       "      <th>Y</th>\n",
       "    </tr>\n",
       "  </thead>\n",
       "  <tbody>\n",
       "    <tr>\n",
       "      <th>0</th>\n",
       "      <td>1</td>\n",
       "      <td>0</td>\n",
       "      <td>0</td>\n",
       "      <td>10026</td>\n",
       "      <td>24</td>\n",
       "      <td>194.0</td>\n",
       "      <td>642.0</td>\n",
       "      <td>763595.294118</td>\n",
       "      <td>3032.985714</td>\n",
       "      <td>1</td>\n",
       "      <td>...</td>\n",
       "      <td>134.0</td>\n",
       "      <td>0.0</td>\n",
       "      <td>17.0</td>\n",
       "      <td>124.0</td>\n",
       "      <td>34003.0</td>\n",
       "      <td>14.0</td>\n",
       "      <td>64.0</td>\n",
       "      <td>130.0</td>\n",
       "      <td>569.897094</td>\n",
       "      <td>1</td>\n",
       "    </tr>\n",
       "    <tr>\n",
       "      <th>1</th>\n",
       "      <td>0</td>\n",
       "      <td>1</td>\n",
       "      <td>0</td>\n",
       "      <td>11231</td>\n",
       "      <td>25</td>\n",
       "      <td>456.0</td>\n",
       "      <td>1087.0</td>\n",
       "      <td>868091.764706</td>\n",
       "      <td>2687.500000</td>\n",
       "      <td>1</td>\n",
       "      <td>...</td>\n",
       "      <td>89.0</td>\n",
       "      <td>0.0</td>\n",
       "      <td>1.0</td>\n",
       "      <td>11.0</td>\n",
       "      <td>33336.0</td>\n",
       "      <td>0.0</td>\n",
       "      <td>0.0</td>\n",
       "      <td>0.0</td>\n",
       "      <td>1410.767771</td>\n",
       "      <td>2</td>\n",
       "    </tr>\n",
       "  </tbody>\n",
       "</table>\n",
       "<p>2 rows × 26 columns</p>\n",
       "</div>"
      ],
      "text/plain": [
       "   LEVEL_FELONY  LEVEL_MISDEMEANOR  LEVEL_VIOLATION  zipcode  res_max_type  \\\n",
       "0             1                  0                0    10026            24   \n",
       "1             0                  1                0    11231            25   \n",
       "\n",
       "   res_max_type_count  res_total_count  avg_house_sell_price  \\\n",
       "0               194.0            642.0         763595.294118   \n",
       "1               456.0           1087.0         868091.764706   \n",
       "\n",
       "   avg_house_rent_price  lib_count1 ...  store_individual_type_count  \\\n",
       "0           3032.985714           1 ...                        134.0   \n",
       "1           2687.500000           1 ...                         89.0   \n",
       "\n",
       "   univ_count1  univ_count5  univ_count15  population  hospital_count5  \\\n",
       "0          0.0         17.0         124.0     34003.0             14.0   \n",
       "1          0.0          1.0          11.0     33336.0              0.0   \n",
       "\n",
       "   hospital_count10  hospital_count15    park_area  Y  \n",
       "0              64.0             130.0   569.897094  1  \n",
       "1               0.0               0.0  1410.767771  2  \n",
       "\n",
       "[2 rows x 26 columns]"
      ]
     },
     "execution_count": 5,
     "metadata": {},
     "output_type": "execute_result"
    }
   ],
   "source": [
    "rowData = pd.read_csv('data/all_data.csv')\n",
    "# convert encoding\n",
    "le = sklearn.preprocessing.LabelEncoder()\n",
    "rowData['res_max_type'] = le.fit_transform(rowData['res_max_type'])\n",
    "#split data:\n",
    "totalRows = len(rowData.index)\n",
    "train_df_idx = np.random.choice(rowData.index, math.ceil(totalRows*0.5), replace=False)\n",
    "data = rowData.loc[train_df_idx]\n",
    "data = rowData\n",
    "#data = rowData.loc[:9999]\n",
    "#########\n",
    "totalRows = len(data.index)\n",
    "irrelevant_labels = ['date','time','lat','lon']\n",
    "data = data.drop(irrelevant_labels,axis=1)\n",
    "#data = create_Label(data)\n",
    "data['Y'] = data['LEVEL_FELONY']+data['LEVEL_MISDEMEANOR']*2+data['LEVEL_VIOLATION']*3\n",
    "#print(totalRows)\n",
    "train_df_idx = np.random.choice(data.index, math.ceil(totalRows*0.8), replace=False)\n",
    "data_train = data.loc[train_df_idx]\n",
    "data_test = data.loc[~data.index.isin(train_df_idx)]\n",
    "\n",
    "train_df_idx_svm = np.random.choice(data.index, math.ceil(totalRows*0.001), replace=False)\n",
    "data_train_svm = data.loc[train_df_idx_svm]\n",
    "\n",
    "data.head(2)"
   ]
  },
  {
   "cell_type": "code",
   "execution_count": 6,
   "metadata": {
    "collapsed": false
   },
   "outputs": [
    {
     "data": {
      "image/png": "[encoded data removed]",
      "text/plain": [
       "<matplotlib.figure.Figure at 0xf30e6d0>"
      ]
     },
     "metadata": {},
     "output_type": "display_data"
    }
   ],
   "source": [
    "import matplotlib\n",
    "import matplotlib.pyplot as plt\n",
    "%matplotlib inline\n",
    "\n",
    "y_labels = ['LEVEL_FELONY', 'LEVEL_MISDEMEANOR', 'LEVEL_VIOLATION','Y']\n",
    "y_label = 'LEVEL_VIOLATION'\n",
    "# Classifier\n",
    "logReg_cla = LogisticRegression(C=1e5)\n",
    "prob_l = logReg_cla.fit(data_train.drop(y_labels, axis=1), data_train[y_label]).predict_proba(data_test.drop(y_labels, axis=1))\n",
    "pred = prob_l[:,1]\n",
    "\n",
    "fact = np.array(data_test[y_label].tolist())\n",
    "fpr, tpr, thresholds = roc_curve(data_test[y_label], pred)\n",
    "roc_auc = auc(fpr, tpr)\n",
    "plt.plot(fpr, tpr, lw=2, alpha=0.8,label='%s with AUC = %0.8f' % ('logReg', roc_auc))\n",
    "\n",
    "plt.title('ROC')\n",
    "plt.xlabel('False Positive Rate')\n",
    "plt.ylabel('True Positive Rate')\n",
    "plt.legend(loc=\"lower right\")\n",
    "plt.show()"
   ]
  },
  {
   "cell_type": "code",
   "execution_count": 12,
   "metadata": {
    "collapsed": false
   },
   "outputs": [
    {
     "ename": "NameError",
     "evalue": "name 'aucs' is not defined",
     "output_type": "error",
     "traceback": [
      "\u001b[0;31m---------------------------------------------------------------------------\u001b[0m",
      "\u001b[0;31mNameError\u001b[0m                                 Traceback (most recent call last)",
      "\u001b[0;32m<ipython-input-12-534adefa68eb>\u001b[0m in \u001b[0;36m<module>\u001b[0;34m()\u001b[0m\n\u001b[1;32m      5\u001b[0m \u001b[0mfpr\u001b[0m\u001b[1;33m,\u001b[0m \u001b[0mtpr\u001b[0m\u001b[1;33m,\u001b[0m \u001b[0mthresholds\u001b[0m \u001b[1;33m=\u001b[0m \u001b[0mroc_curve\u001b[0m\u001b[1;33m(\u001b[0m\u001b[0mdata_test\u001b[0m\u001b[1;33m[\u001b[0m\u001b[0my_label\u001b[0m\u001b[1;33m]\u001b[0m\u001b[1;33m,\u001b[0m \u001b[0mpred\u001b[0m\u001b[1;33m)\u001b[0m\u001b[1;33m\u001b[0m\u001b[0m\n\u001b[1;32m      6\u001b[0m \u001b[0mroc_auc\u001b[0m \u001b[1;33m=\u001b[0m \u001b[0mauc\u001b[0m\u001b[1;33m(\u001b[0m\u001b[0mfpr\u001b[0m\u001b[1;33m,\u001b[0m \u001b[0mtpr\u001b[0m\u001b[1;33m)\u001b[0m\u001b[1;33m\u001b[0m\u001b[0m\n\u001b[0;32m----> 7\u001b[0;31m \u001b[0maucs\u001b[0m\u001b[1;33m.\u001b[0m\u001b[0mappend\u001b[0m\u001b[1;33m(\u001b[0m\u001b[0mroc_auc\u001b[0m\u001b[1;33m)\u001b[0m\u001b[1;33m\u001b[0m\u001b[0m\n\u001b[0m\u001b[1;32m      8\u001b[0m \u001b[0mplt\u001b[0m\u001b[1;33m.\u001b[0m\u001b[0mplot\u001b[0m\u001b[1;33m(\u001b[0m\u001b[0mfpr\u001b[0m\u001b[1;33m,\u001b[0m \u001b[0mtpr\u001b[0m\u001b[1;33m,\u001b[0m \u001b[0mlw\u001b[0m\u001b[1;33m=\u001b[0m\u001b[1;36m2\u001b[0m\u001b[1;33m,\u001b[0m \u001b[0malpha\u001b[0m\u001b[1;33m=\u001b[0m\u001b[1;36m0.8\u001b[0m\u001b[1;33m,\u001b[0m\u001b[0mlabel\u001b[0m\u001b[1;33m=\u001b[0m\u001b[1;34m'%s with AUC = %0.2f'\u001b[0m \u001b[1;33m%\u001b[0m \u001b[1;33m(\u001b[0m\u001b[1;34m'SVM'\u001b[0m\u001b[1;33m,\u001b[0m \u001b[0mroc_auc\u001b[0m\u001b[1;33m)\u001b[0m\u001b[1;33m)\u001b[0m\u001b[1;33m\u001b[0m\u001b[0m\n\u001b[1;32m      9\u001b[0m \u001b[1;33m\u001b[0m\u001b[0m\n",
      "\u001b[0;31mNameError\u001b[0m: name 'aucs' is not defined"
     ]
    }
   ],
   "source": [
    "#SVM\n",
    "svm_cla_prob = svm.SVC(kernel='linear', probability=True)\n",
    "probas_ = svm_cla_prob.fit(data_train_svm.drop(y_labels, axis=1), data_train_svm[y_label]).predict_proba(data_test.drop(y_labels, axis=1))\n",
    "pred = probas_[:, 1]\n",
    "fpr, tpr, thresholds = roc_curve(data_test[y_label], pred)\n",
    "roc_auc = auc(fpr, tpr)\n",
    "plt.plot(fpr, tpr, lw=2, alpha=0.8,label='%s with AUC = %0.2f' % ('SVM', roc_auc))\n",
    "    \n",
    "plt.title('ROC')\n",
    "plt.xlabel('False Positive Rate')\n",
    "plt.ylabel('True Positive Rate')\n",
    "plt.legend(loc=\"lower right\")\n",
    "plt.show()"
   ]
  },
  {
   "cell_type": "code",
   "execution_count": 11,
   "metadata": {
    "collapsed": false
   },
   "outputs": [
    {
     "data": {
      "text/plain": [
       "0.85402463560438291"
      ]
     },
     "execution_count": 11,
     "metadata": {},
     "output_type": "execute_result"
    }
   ],
   "source": [
    "np.sum((pred>=0.5) == fact)/len(pred)"
   ]
  },
  {
   "cell_type": "code",
   "execution_count": null,
   "metadata": {
    "collapsed": true
   },
   "outputs": [],
   "source": [
    "# Plot the decision boundary. For that, we will assign a color to each\n",
    "# point in the mesh [x_min, x_max]x[y_min, y_max].\n",
    "x_min, x_max = X[:, 0].min() - .5, X[:, 0].max() + .5\n",
    "y_min, y_max = X[:, 1].min() - .5, X[:, 1].max() + .5\n",
    "xx, yy = np.meshgrid(np.arange(x_min, x_max, h), np.arange(y_min, y_max, h))\n",
    "Z = logreg.predict(np.c_[xx.ravel(), yy.ravel()])\n",
    "\n",
    "# Put the result into a color plot\n",
    "Z = Z.reshape(xx.shape)\n",
    "plt.figure(1, figsize=(4, 3))\n",
    "plt.pcolormesh(xx, yy, Z, cmap=plt.cm.Paired)\n",
    "\n",
    "# Plot also the training points\n",
    "plt.scatter(X[:, 0], X[:, 1], c=Y, edgecolors='k', cmap=plt.cm.Paired)\n",
    "plt.xlabel('Sepal length')\n",
    "plt.ylabel('Sepal width')\n",
    "\n",
    "plt.xlim(xx.min(), xx.max())\n",
    "plt.ylim(yy.min(), yy.max())\n",
    "plt.xticks(())\n",
    "plt.yticks(())\n",
    "\n",
    "plt.show()"
   ]
  }
 ],
 "metadata": {
  "kernelspec": {
   "display_name": "Python 3",
   "language": "python",
   "name": "python3"
  },
  "language_info": {
   "codemirror_mode": {
    "name": "ipython",
    "version": 3
   },
   "file_extension": ".py",
   "mimetype": "text/x-python",
   "name": "python",
   "nbconvert_exporter": "python",
   "pygments_lexer": "ipython3",
   "version": "3.6.0"
  }
 },
 "nbformat": 4,
 "nbformat_minor": 2
}
