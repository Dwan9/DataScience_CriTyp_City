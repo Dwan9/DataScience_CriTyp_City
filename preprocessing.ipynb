{
 "cells": [
  {
   "cell_type": "code",
   "execution_count": 1,
   "metadata": {
    "collapsed": true
   },
   "outputs": [],
   "source": [
    "import pandas as pd\n",
    "import numpy as np"
   ]
  },
  {
   "cell_type": "markdown",
   "metadata": {},
   "source": [
    "Poplation - zip"
   ]
  },
  {
   "cell_type": "code",
   "execution_count": 3,
   "metadata": {
    "collapsed": false
   },
   "outputs": [],
   "source": [
    "populationDataDir = 'rowData\\population_by_zip_2010.csv'\n",
    "data = pd.read_csv(populationDataDir)\n",
    "#data.head(2)"
   ]
  },
  {
   "cell_type": "code",
   "execution_count": 4,
   "metadata": {
    "collapsed": false
   },
   "outputs": [],
   "source": [
    "popuData = data.loc[data['gender'].isnull()]\n",
    "popuData = popuData.drop(['minimum_age','maximum_age','gender'], axis=1)\n",
    "#popuData.head(2)"
   ]
  },
  {
   "cell_type": "code",
   "execution_count": 6,
   "metadata": {
    "collapsed": false
   },
   "outputs": [],
   "source": [
    "zipData = pd.read_csv('rowData\\zip_code_database.csv', encoding='latin1')\n",
    "#zipData.head(2)"
   ]
  },
  {
   "cell_type": "code",
   "execution_count": 7,
   "metadata": {
    "collapsed": false
   },
   "outputs": [],
   "source": [
    "zipNYData = zipData.loc[zipData['state']=='NY'].zip.tolist()"
   ]
  },
  {
   "cell_type": "code",
   "execution_count": 8,
   "metadata": {
    "collapsed": false
   },
   "outputs": [],
   "source": [
    "popu = popuData.loc[popuData['zipcode'].isin(zipNYData)]\n",
    "outFileDir = 'data\\popu_zip.csv'\n",
    "popu.to_csv(outFileDir)"
   ]
  },
  {
   "cell_type": "markdown",
   "metadata": {},
   "source": [
    "Store - zip\n",
    "three features: total, #individual, #business"
   ]
  },
  {
   "cell_type": "code",
   "execution_count": 82,
   "metadata": {
    "collapsed": false
   },
   "outputs": [
    {
     "data": {
      "text/plain": [
       "Index(['DCA License Number', 'License Type', 'License Expiration Date',\n",
       "       'License Category', 'Business Name', 'Business Name 2',\n",
       "       'Address Building', 'Address Street Name',\n",
       "       'Secondary Address Street Name', 'Address City', 'Address State',\n",
       "       'Address ZIP', 'Contact Phone Number', 'Address Borough', 'Detail',\n",
       "       'Longitude', 'Latitude'],\n",
       "      dtype='object')"
      ]
     },
     "execution_count": 82,
     "metadata": {},
     "output_type": "execute_result"
    }
   ],
   "source": [
    "storeRowData = pd.read_csv('rowData\\Legally_Operating_Businesses.csv')\n",
    "storeRowData.columns"
   ]
  },
  {
   "cell_type": "code",
   "execution_count": 90,
   "metadata": {
    "collapsed": false
   },
   "outputs": [
    {
     "ename": "SyntaxError",
     "evalue": "(unicode error) 'unicodeescape' codec can't decode bytes in position 4-5: malformed \\N character escape (<ipython-input-90-d4532a78d905>, line 11)",
     "output_type": "error",
     "traceback": [
      "\u001b[0;36m  File \u001b[0;32m\"<ipython-input-90-d4532a78d905>\"\u001b[0;36m, line \u001b[0;32m11\u001b[0m\n\u001b[0;31m    outFileDir = 'data\\NYC_Store_clean.csv'\u001b[0m\n\u001b[0m                ^\u001b[0m\n\u001b[0;31mSyntaxError\u001b[0m\u001b[0;31m:\u001b[0m (unicode error) 'unicodeescape' codec can't decode bytes in position 4-5: malformed \\N character escape\n"
     ]
    }
   ],
   "source": [
    "#NaN\n",
    "storeRowData = storeRowData.fillna(0)\n",
    "storeRowData = storeRowData[storeRowData['Address ZIP'].astype('str').apply(lambda x : x.isnumeric())]\n",
    "#NYC city\n",
    "cityList = ['NEW YORK','BROOKLYN','QUEENS VILLAGE','JAMAICA','FLUSHING','BRONX','COLLEGE POINT']\n",
    "\n",
    "storesData = storeRowData[['Address ZIP','Address City','DCA License Number','License Type','License Expiration Date']]\\\n",
    "            .loc[storeRowData['Address ZIP'].astype('int64')<12000]\n",
    "storesData = storesData.loc[storesData['Address ZIP'].astype('int64')>10000]\n",
    "#print(len(storesData.index))\n",
    "#storesData.head(3)\n",
    "outFileDir = 'data\\NYC_Store_clean.csv'\n",
    "\n",
    "#storesData.to_csv(outFileDir)\n",
    "storesData.isnull().sum()"
   ]
  },
  {
   "cell_type": "code",
   "execution_count": 51,
   "metadata": {
    "collapsed": false
   },
   "outputs": [
    {
     "data": {
      "text/plain": [
       "Address ZIP                0\n",
       "Address City               0\n",
       "DCA License Number         0\n",
       "License Type               0\n",
       "License Expiration Date    0\n",
       "dtype: int64"
      ]
     },
     "execution_count": 51,
     "metadata": {},
     "output_type": "execute_result"
    }
   ],
   "source": [
    "storesData.isnull().sum()\n",
    "#storesData.groupby('Address ZIP').count()"
   ]
  },
  {
   "cell_type": "code",
   "execution_count": null,
   "metadata": {
    "collapsed": true
   },
   "outputs": [],
   "source": []
  }
 ],
 "metadata": {
  "kernelspec": {
   "display_name": "Python 3",
   "language": "python",
   "name": "python3"
  },
  "language_info": {
   "codemirror_mode": {
    "name": "ipython",
    "version": 3
   },
   "file_extension": ".py",
   "mimetype": "text/x-python",
   "name": "python",
   "nbconvert_exporter": "python",
   "pygments_lexer": "ipython3",
   "version": "3.6.0"
  }
 },
 "nbformat": 4,
 "nbformat_minor": 2
}
