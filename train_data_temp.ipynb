{
 "cells": [
  {
   "cell_type": "code",
   "execution_count": 1,
   "metadata": {
    "collapsed": true
   },
   "outputs": [],
   "source": [
    "import numpy as np\n",
    "import pandas as pd\n",
    "from sklearn.preprocessing import MinMaxScaler\n",
    "from sklearn.linear_model import LogisticRegression\n",
    "from sklearn import svm\n",
    "from sklearn.metrics import roc_curve, auc\n",
    "import sklearn.preprocessing\n",
    "from scipy import interp\n",
    "import math"
   ]
  },
  {
   "cell_type": "code",
   "execution_count": 2,
   "metadata": {
    "collapsed": true
   },
   "outputs": [],
   "source": [
    "def create_Label(_data):\n",
    "    data = _data\n",
    "    data['Y'] = data['LEVEL_FELONY']+data['LEVEL_MISDEMEANOR']*2+data['LEVEL_VIOLATION']\n",
    "    #data = data.drop(['LEVEL_FELONY', 'LEVEL_MISDEMEANOR', 'LEVEL_VIOLATION'],axis=1)\n",
    "    return data;"
   ]
  },
  {
   "cell_type": "code",
   "execution_count": 5,
   "metadata": {
    "collapsed": false
   },
   "outputs": [
    {
     "data": {
      "text/html": [
       "<div>\n",
       "<table border=\"1\" class=\"dataframe\">\n",
       "  <thead>\n",
       "    <tr style=\"text-align: right;\">\n",
       "      <th></th>\n",
       "      <th>LEVEL_FELONY</th>\n",
       "      <th>LEVEL_MISDEMEANOR</th>\n",
       "      <th>LEVEL_VIOLATION</th>\n",
       "      <th>zipcode</th>\n",
       "      <th>res_max_type</th>\n",
       "      <th>res_max_type_count</th>\n",
       "      <th>res_total_count</th>\n",
       "      <th>avg_house_sell_price</th>\n",
       "      <th>avg_house_rent_price</th>\n",
       "      <th>lib_count1</th>\n",
       "      <th>...</th>\n",
       "      <th>store_individual_type_count</th>\n",
       "      <th>univ_count1</th>\n",
       "      <th>univ_count5</th>\n",
       "      <th>univ_count15</th>\n",
       "      <th>population</th>\n",
       "      <th>hospital_count5</th>\n",
       "      <th>hospital_count10</th>\n",
       "      <th>hospital_count15</th>\n",
       "      <th>park_area</th>\n",
       "      <th>Y</th>\n",
       "    </tr>\n",
       "  </thead>\n",
       "  <tbody>\n",
       "    <tr>\n",
       "      <th>0</th>\n",
       "      <td>1</td>\n",
       "      <td>0</td>\n",
       "      <td>0</td>\n",
       "      <td>10026</td>\n",
       "      <td>24</td>\n",
       "      <td>194.0</td>\n",
       "      <td>642.0</td>\n",
       "      <td>763595.294118</td>\n",
       "      <td>3032.985714</td>\n",
       "      <td>1</td>\n",
       "      <td>...</td>\n",
       "      <td>134.0</td>\n",
       "      <td>0.0</td>\n",
       "      <td>17.0</td>\n",
       "      <td>124.0</td>\n",
       "      <td>34003.0</td>\n",
       "      <td>14.0</td>\n",
       "      <td>64.0</td>\n",
       "      <td>130.0</td>\n",
       "      <td>569.897094</td>\n",
       "      <td>1</td>\n",
       "    </tr>\n",
       "    <tr>\n",
       "      <th>1</th>\n",
       "      <td>0</td>\n",
       "      <td>1</td>\n",
       "      <td>0</td>\n",
       "      <td>11231</td>\n",
       "      <td>25</td>\n",
       "      <td>456.0</td>\n",
       "      <td>1087.0</td>\n",
       "      <td>868091.764706</td>\n",
       "      <td>2687.500000</td>\n",
       "      <td>1</td>\n",
       "      <td>...</td>\n",
       "      <td>89.0</td>\n",
       "      <td>0.0</td>\n",
       "      <td>1.0</td>\n",
       "      <td>11.0</td>\n",
       "      <td>33336.0</td>\n",
       "      <td>0.0</td>\n",
       "      <td>0.0</td>\n",
       "      <td>0.0</td>\n",
       "      <td>1410.767771</td>\n",
       "      <td>2</td>\n",
       "    </tr>\n",
       "  </tbody>\n",
       "</table>\n",
       "<p>2 rows × 26 columns</p>\n",
       "</div>"
      ],
      "text/plain": [
       "   LEVEL_FELONY  LEVEL_MISDEMEANOR  LEVEL_VIOLATION  zipcode  res_max_type  \\\n",
       "0             1                  0                0    10026            24   \n",
       "1             0                  1                0    11231            25   \n",
       "\n",
       "   res_max_type_count  res_total_count  avg_house_sell_price  \\\n",
       "0               194.0            642.0         763595.294118   \n",
       "1               456.0           1087.0         868091.764706   \n",
       "\n",
       "   avg_house_rent_price  lib_count1 ...  store_individual_type_count  \\\n",
       "0           3032.985714           1 ...                        134.0   \n",
       "1           2687.500000           1 ...                         89.0   \n",
       "\n",
       "   univ_count1  univ_count5  univ_count15  population  hospital_count5  \\\n",
       "0          0.0         17.0         124.0     34003.0             14.0   \n",
       "1          0.0          1.0          11.0     33336.0              0.0   \n",
       "\n",
       "   hospital_count10  hospital_count15    park_area  Y  \n",
       "0              64.0             130.0   569.897094  1  \n",
       "1               0.0               0.0  1410.767771  2  \n",
       "\n",
       "[2 rows x 26 columns]"
      ]
     },
     "execution_count": 5,
     "metadata": {},
     "output_type": "execute_result"
    }
   ],
   "source": [
    "rowData = pd.read_csv('data/all_data.csv')\n",
    "# convert encoding\n",
    "le = sklearn.preprocessing.LabelEncoder()\n",
    "rowData['res_max_type'] = le.fit_transform(rowData['res_max_type'])\n",
    "#split data:\n",
    "totalRows = len(rowData.index)\n",
    "train_df_idx = np.random.choice(rowData.index, math.ceil(totalRows*0.5), replace=False)\n",
    "data = rowData.loc[train_df_idx]\n",
    "data = rowData\n",
    "#data = rowData.loc[:9999]\n",
    "#########\n",
    "totalRows = len(data.index)\n",
    "irrelevant_labels = ['date','time','lat','lon']\n",
    "data = data.drop(irrelevant_labels,axis=1)\n",
    "#data = create_Label(data)\n",
    "data['Y'] = data['LEVEL_FELONY']+data['LEVEL_MISDEMEANOR']*2+data['LEVEL_VIOLATION']*3\n",
    "#print(totalRows)\n",
    "train_df_idx = np.random.choice(data.index, math.ceil(totalRows*0.8), replace=False)\n",
    "data_train = data.loc[train_df_idx]\n",
    "data_test = data.loc[~data.index.isin(train_df_idx)]\n",
    "\n",
    "train_df_idx_svm = np.random.choice(data.index, math.ceil(totalRows*0.001), replace=False)\n",
    "data_train_svm = data.loc[train_df_idx_svm]\n",
    "\n",
    "data.head(2)"
   ]
  },
  {
   "cell_type": "code",
   "execution_count": 18,
   "metadata": {
    "collapsed": false
   },
   "outputs": [
    {
     "data": {
      "text/plain": [
       "<matplotlib.axes._subplots.AxesSubplot at 0xc9c4b90>"
      ]
     },
     "execution_count": 18,
     "metadata": {},
     "output_type": "execute_result"
    },
    {
     "data": {
      "image/png": "[encoded data removed]",
      "text/plain": [
       "<matplotlib.figure.Figure at 0xcc4b4b0>"
      ]
     },
     "metadata": {},
     "output_type": "display_data"
    }
   ],
   "source": [
    "import matplotlib\n",
    "import matplotlib.pyplot as pl\n",
    "%matplotlib inline\n",
    "import seaborn as sns\n",
    "\n",
    "corrmatrix_features = ['LEVEL_VIOLATION', 'avg_house_rent_price','mus_count15','mus_count5','lib_count15','store_individual_type_count','population']\n",
    "\n",
    "f, ax = pl.subplots(figsize=(10, 8))\n",
    "corr = rowData[corrmatrix_features].corr()\n",
    "sns.heatmap(corr, mask=np.zeros_like(corr, dtype=np.bool), cmap=sns.diverging_palette(220, 10, as_cmap=True),\n",
    "            square=True, ax=ax)"
   ]
  },
  {
   "cell_type": "code",
   "execution_count": 14,
   "metadata": {
    "collapsed": false
   },
   "outputs": [
    {
     "data": {
      "image/png": "[encoded data removed]",
      "text/plain": [
       "<matplotlib.figure.Figure at 0xe4ae950>"
      ]
     },
     "metadata": {},
     "output_type": "display_data"
    }
   ],
   "source": [
    "\n",
    "y_labels = ['LEVEL_FELONY', 'LEVEL_MISDEMEANOR', 'LEVEL_VIOLATION','Y']\n",
    "y_label = 'LEVEL_MISDEMEANOR'\n",
    "# Classifier\n",
    "logReg_cla = LogisticRegression(C=1e5)\n",
    "prob_l = logReg_cla.fit(data_train.drop(y_labels, axis=1), data_train[y_label]).predict_proba(data_test.drop(y_labels, axis=1))\n",
    "pred = prob_l[:,1]\n",
    "\n",
    "fact = np.array(data_test[y_label].tolist())\n",
    "fpr, tpr, thresholds = roc_curve(data_test[y_label], pred)\n",
    "roc_auc = auc(fpr, tpr)\n",
    "plt.plot(fpr, tpr, lw=2, alpha=0.8,label='%s with AUC = %0.8f' % ('logReg', roc_auc))\n",
    "\n",
    "plt.title('ROC')\n",
    "plt.xlabel('False Positive Rate')\n",
    "plt.ylabel('True Positive Rate')\n",
    "plt.legend(loc=\"lower right\")\n",
    "plt.show()"
   ]
  },
  {
   "cell_type": "code",
   "execution_count": 15,
   "metadata": {
    "collapsed": false
   },
   "outputs": [
    {
     "data": {
      "text/plain": [
       "0.55488007874129719"
      ]
     },
     "execution_count": 15,
     "metadata": {},
     "output_type": "execute_result"
    }
   ],
   "source": [
    "np.sum((pred>=0.5) == fact)/len(pred)"
   ]
  },
  {
   "cell_type": "code",
   "execution_count": 13,
   "metadata": {
    "collapsed": false
   },
   "outputs": [
    {
     "data": {
      "image/png": "[encoded data removed]",
      "text/plain": [
       "<matplotlib.figure.Figure at 0xe36bb90>"
      ]
     },
     "metadata": {},
     "output_type": "display_data"
    }
   ],
   "source": [
    "#SVM\n",
    "svm_cla_prob = svm.SVC(kernel='linear', probability=True)\n",
    "probas_ = svm_cla_prob.fit(data_train_svm.drop(y_labels, axis=1), data_train_svm[y_label]).predict_proba(data_test.drop(y_labels, axis=1))\n",
    "pred = probas_[:, 1]\n",
    "fpr, tpr, thresholds = roc_curve(data_test[y_label], pred)\n",
    "roc_auc = auc(fpr, tpr)\n",
    "plt.plot(fpr, tpr, lw=2, alpha=0.8,label='%s with AUC = %0.2f' % ('SVM', roc_auc))\n",
    "    \n",
    "plt.title('ROC')\n",
    "plt.xlabel('False Positive Rate')\n",
    "plt.ylabel('True Positive Rate')\n",
    "plt.legend(loc=\"lower right\")\n",
    "plt.show()"
   ]
  },
  {
   "cell_type": "code",
   "execution_count": null,
   "metadata": {
    "collapsed": true
   },
   "outputs": [],
   "source": [
    "# Plot the decision boundary. For that, we will assign a color to each\n",
    "# point in the mesh [x_min, x_max]x[y_min, y_max].\n",
    "x_min, x_max = X[:, 0].min() - .5, X[:, 0].max() + .5\n",
    "y_min, y_max = X[:, 1].min() - .5, X[:, 1].max() + .5\n",
    "xx, yy = np.meshgrid(np.arange(x_min, x_max, h), np.arange(y_min, y_max, h))\n",
    "Z = logreg.predict(np.c_[xx.ravel(), yy.ravel()])\n",
    "\n",
    "# Put the result into a color plot\n",
    "Z = Z.reshape(xx.shape)\n",
    "plt.figure(1, figsize=(4, 3))\n",
    "plt.pcolormesh(xx, yy, Z, cmap=plt.cm.Paired)\n",
    "\n",
    "# Plot also the training points\n",
    "plt.scatter(X[:, 0], X[:, 1], c=Y, edgecolors='k', cmap=plt.cm.Paired)\n",
    "plt.xlabel('Sepal length')\n",
    "plt.ylabel('Sepal width')\n",
    "\n",
    "plt.xlim(xx.min(), xx.max())\n",
    "plt.ylim(yy.min(), yy.max())\n",
    "plt.xticks(())\n",
    "plt.yticks(())\n",
    "\n",
    "plt.show()"
   ]
  }
 ],
 "metadata": {
  "kernelspec": {
   "display_name": "Python 3",
   "language": "python",
   "name": "python3"
  },
  "language_info": {
   "codemirror_mode": {
    "name": "ipython",
    "version": 3
   },
   "file_extension": ".py",
   "mimetype": "text/x-python",
   "name": "python",
   "nbconvert_exporter": "python",
   "pygments_lexer": "ipython3",
   "version": "3.6.0"
  }
 },
 "nbformat": 4,
 "nbformat_minor": 2
}
